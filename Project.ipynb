{
 "cells": [
  {
   "cell_type": "code",
   "execution_count": 1,
   "metadata": {},
   "outputs": [],
   "source": [
    "import pandas as pd\n",
    "import numpy as np\n",
    "import seaborn as sns\n",
    "import matplotlib.pyplot as plt\n",
    "from sklearn import preprocessing\n",
    "from sklearn.metrics import accuracy_score, f1_score, precision_score, recall_score, classification_report, confusion_matrix\n",
    "from sklearn.model_selection import train_test_split\n",
    "from sklearn.neighbors import KNeighborsClassifier\n",
    "from sklearn.ensemble import AdaBoostRegressor\n",
    "from sklearn.naive_bayes import GaussianNB"
   ]
  },
  {
   "cell_type": "code",
   "execution_count": 2,
   "metadata": {},
   "outputs": [],
   "source": [
    "df_train = pd.read_csv('./dataset/train.csv')"
   ]
  },
  {
   "cell_type": "code",
   "execution_count": 3,
   "metadata": {
    "scrolled": true
   },
   "outputs": [
    {
     "data": {
      "text/plain": [
       "Index(['Id', 'MSSubClass', 'MSZoning', 'LotFrontage', 'LotArea', 'Street',\n",
       "       'Alley', 'LotShape', 'LandContour', 'Utilities', 'LotConfig',\n",
       "       'LandSlope', 'Neighborhood', 'Condition1', 'Condition2', 'BldgType',\n",
       "       'HouseStyle', 'OverallQual', 'OverallCond', 'YearBuilt', 'YearRemodAdd',\n",
       "       'RoofStyle', 'RoofMatl', 'Exterior1st', 'Exterior2nd', 'MasVnrType',\n",
       "       'MasVnrArea', 'ExterQual', 'ExterCond', 'Foundation', 'BsmtQual',\n",
       "       'BsmtCond', 'BsmtExposure', 'BsmtFinType1', 'BsmtFinSF1',\n",
       "       'BsmtFinType2', 'BsmtFinSF2', 'BsmtUnfSF', 'TotalBsmtSF', 'Heating',\n",
       "       'HeatingQC', 'CentralAir', 'Electrical', '1stFlrSF', '2ndFlrSF',\n",
       "       'LowQualFinSF', 'GrLivArea', 'BsmtFullBath', 'BsmtHalfBath', 'FullBath',\n",
       "       'HalfBath', 'BedroomAbvGr', 'KitchenAbvGr', 'KitchenQual',\n",
       "       'TotRmsAbvGrd', 'Functional', 'Fireplaces', 'FireplaceQu', 'GarageType',\n",
       "       'GarageYrBlt', 'GarageFinish', 'GarageCars', 'GarageArea', 'GarageQual',\n",
       "       'GarageCond', 'PavedDrive', 'WoodDeckSF', 'OpenPorchSF',\n",
       "       'EnclosedPorch', '3SsnPorch', 'ScreenPorch', 'PoolArea', 'PoolQC',\n",
       "       'Fence', 'MiscFeature', 'MiscVal', 'MoSold', 'YrSold', 'SaleType',\n",
       "       'SaleCondition', 'SalePrice'],\n",
       "      dtype='object')"
      ]
     },
     "execution_count": 3,
     "metadata": {},
     "output_type": "execute_result"
    }
   ],
   "source": [
    "df_train.columns"
   ]
  },
  {
   "cell_type": "code",
   "execution_count": 4,
   "metadata": {},
   "outputs": [
    {
     "data": {
      "text/plain": [
       "count      1460.000000\n",
       "mean     180921.195890\n",
       "std       79442.502883\n",
       "min       34900.000000\n",
       "25%      129975.000000\n",
       "50%      163000.000000\n",
       "75%      214000.000000\n",
       "max      755000.000000\n",
       "Name: SalePrice, dtype: float64"
      ]
     },
     "execution_count": 4,
     "metadata": {},
     "output_type": "execute_result"
    }
   ],
   "source": [
    "df_train['SalePrice'].describe()"
   ]
  },
  {
   "cell_type": "code",
   "execution_count": 5,
   "metadata": {},
   "outputs": [
    {
     "data": {
      "text/html": [
       "<div>\n",
       "<style scoped>\n",
       "    .dataframe tbody tr th:only-of-type {\n",
       "        vertical-align: middle;\n",
       "    }\n",
       "\n",
       "    .dataframe tbody tr th {\n",
       "        vertical-align: top;\n",
       "    }\n",
       "\n",
       "    .dataframe thead th {\n",
       "        text-align: right;\n",
       "    }\n",
       "</style>\n",
       "<table border=\"1\" class=\"dataframe\">\n",
       "  <thead>\n",
       "    <tr style=\"text-align: right;\">\n",
       "      <th></th>\n",
       "      <th>Id</th>\n",
       "      <th>MSSubClass</th>\n",
       "      <th>MSZoning</th>\n",
       "      <th>LotFrontage</th>\n",
       "      <th>LotArea</th>\n",
       "      <th>Street</th>\n",
       "      <th>Alley</th>\n",
       "      <th>LotShape</th>\n",
       "      <th>LandContour</th>\n",
       "      <th>Utilities</th>\n",
       "      <th>...</th>\n",
       "      <th>PoolArea</th>\n",
       "      <th>PoolQC</th>\n",
       "      <th>Fence</th>\n",
       "      <th>MiscFeature</th>\n",
       "      <th>MiscVal</th>\n",
       "      <th>MoSold</th>\n",
       "      <th>YrSold</th>\n",
       "      <th>SaleType</th>\n",
       "      <th>SaleCondition</th>\n",
       "      <th>SalePrice</th>\n",
       "    </tr>\n",
       "  </thead>\n",
       "  <tbody>\n",
       "    <tr>\n",
       "      <th>0</th>\n",
       "      <td>1</td>\n",
       "      <td>60</td>\n",
       "      <td>RL</td>\n",
       "      <td>65.0</td>\n",
       "      <td>8450</td>\n",
       "      <td>Pave</td>\n",
       "      <td>NaN</td>\n",
       "      <td>Reg</td>\n",
       "      <td>Lvl</td>\n",
       "      <td>AllPub</td>\n",
       "      <td>...</td>\n",
       "      <td>0</td>\n",
       "      <td>NaN</td>\n",
       "      <td>NaN</td>\n",
       "      <td>NaN</td>\n",
       "      <td>0</td>\n",
       "      <td>2</td>\n",
       "      <td>2008</td>\n",
       "      <td>WD</td>\n",
       "      <td>Normal</td>\n",
       "      <td>208500</td>\n",
       "    </tr>\n",
       "    <tr>\n",
       "      <th>1</th>\n",
       "      <td>2</td>\n",
       "      <td>20</td>\n",
       "      <td>RL</td>\n",
       "      <td>80.0</td>\n",
       "      <td>9600</td>\n",
       "      <td>Pave</td>\n",
       "      <td>NaN</td>\n",
       "      <td>Reg</td>\n",
       "      <td>Lvl</td>\n",
       "      <td>AllPub</td>\n",
       "      <td>...</td>\n",
       "      <td>0</td>\n",
       "      <td>NaN</td>\n",
       "      <td>NaN</td>\n",
       "      <td>NaN</td>\n",
       "      <td>0</td>\n",
       "      <td>5</td>\n",
       "      <td>2007</td>\n",
       "      <td>WD</td>\n",
       "      <td>Normal</td>\n",
       "      <td>181500</td>\n",
       "    </tr>\n",
       "    <tr>\n",
       "      <th>2</th>\n",
       "      <td>3</td>\n",
       "      <td>60</td>\n",
       "      <td>RL</td>\n",
       "      <td>68.0</td>\n",
       "      <td>11250</td>\n",
       "      <td>Pave</td>\n",
       "      <td>NaN</td>\n",
       "      <td>IR1</td>\n",
       "      <td>Lvl</td>\n",
       "      <td>AllPub</td>\n",
       "      <td>...</td>\n",
       "      <td>0</td>\n",
       "      <td>NaN</td>\n",
       "      <td>NaN</td>\n",
       "      <td>NaN</td>\n",
       "      <td>0</td>\n",
       "      <td>9</td>\n",
       "      <td>2008</td>\n",
       "      <td>WD</td>\n",
       "      <td>Normal</td>\n",
       "      <td>223500</td>\n",
       "    </tr>\n",
       "    <tr>\n",
       "      <th>3</th>\n",
       "      <td>4</td>\n",
       "      <td>70</td>\n",
       "      <td>RL</td>\n",
       "      <td>60.0</td>\n",
       "      <td>9550</td>\n",
       "      <td>Pave</td>\n",
       "      <td>NaN</td>\n",
       "      <td>IR1</td>\n",
       "      <td>Lvl</td>\n",
       "      <td>AllPub</td>\n",
       "      <td>...</td>\n",
       "      <td>0</td>\n",
       "      <td>NaN</td>\n",
       "      <td>NaN</td>\n",
       "      <td>NaN</td>\n",
       "      <td>0</td>\n",
       "      <td>2</td>\n",
       "      <td>2006</td>\n",
       "      <td>WD</td>\n",
       "      <td>Abnorml</td>\n",
       "      <td>140000</td>\n",
       "    </tr>\n",
       "    <tr>\n",
       "      <th>4</th>\n",
       "      <td>5</td>\n",
       "      <td>60</td>\n",
       "      <td>RL</td>\n",
       "      <td>84.0</td>\n",
       "      <td>14260</td>\n",
       "      <td>Pave</td>\n",
       "      <td>NaN</td>\n",
       "      <td>IR1</td>\n",
       "      <td>Lvl</td>\n",
       "      <td>AllPub</td>\n",
       "      <td>...</td>\n",
       "      <td>0</td>\n",
       "      <td>NaN</td>\n",
       "      <td>NaN</td>\n",
       "      <td>NaN</td>\n",
       "      <td>0</td>\n",
       "      <td>12</td>\n",
       "      <td>2008</td>\n",
       "      <td>WD</td>\n",
       "      <td>Normal</td>\n",
       "      <td>250000</td>\n",
       "    </tr>\n",
       "  </tbody>\n",
       "</table>\n",
       "<p>5 rows × 81 columns</p>\n",
       "</div>"
      ],
      "text/plain": [
       "   Id  MSSubClass MSZoning  LotFrontage  LotArea Street Alley LotShape  \\\n",
       "0   1          60       RL         65.0     8450   Pave   NaN      Reg   \n",
       "1   2          20       RL         80.0     9600   Pave   NaN      Reg   \n",
       "2   3          60       RL         68.0    11250   Pave   NaN      IR1   \n",
       "3   4          70       RL         60.0     9550   Pave   NaN      IR1   \n",
       "4   5          60       RL         84.0    14260   Pave   NaN      IR1   \n",
       "\n",
       "  LandContour Utilities  ... PoolArea PoolQC Fence MiscFeature MiscVal MoSold  \\\n",
       "0         Lvl    AllPub  ...        0    NaN   NaN         NaN       0      2   \n",
       "1         Lvl    AllPub  ...        0    NaN   NaN         NaN       0      5   \n",
       "2         Lvl    AllPub  ...        0    NaN   NaN         NaN       0      9   \n",
       "3         Lvl    AllPub  ...        0    NaN   NaN         NaN       0      2   \n",
       "4         Lvl    AllPub  ...        0    NaN   NaN         NaN       0     12   \n",
       "\n",
       "  YrSold  SaleType  SaleCondition  SalePrice  \n",
       "0   2008        WD         Normal     208500  \n",
       "1   2007        WD         Normal     181500  \n",
       "2   2008        WD         Normal     223500  \n",
       "3   2006        WD        Abnorml     140000  \n",
       "4   2008        WD         Normal     250000  \n",
       "\n",
       "[5 rows x 81 columns]"
      ]
     },
     "execution_count": 5,
     "metadata": {},
     "output_type": "execute_result"
    }
   ],
   "source": [
    "df_train.head()"
   ]
  },
  {
   "cell_type": "code",
   "execution_count": 6,
   "metadata": {},
   "outputs": [
    {
     "data": {
      "image/png": "[encoded data removed]",
      "text/plain": [
       "<Figure size 432x288 with 1 Axes>"
      ]
     },
     "metadata": {
      "needs_background": "light"
     },
     "output_type": "display_data"
    },
    {
     "data": {
      "image/png": "[encoded data removed]",
      "text/plain": [
       "<Figure size 432x288 with 1 Axes>"
      ]
     },
     "metadata": {
      "needs_background": "light"
     },
     "output_type": "display_data"
    },
    {
     "data": {
      "image/png": "[encoded data removed]",
      "text/plain": [
       "<Figure size 432x288 with 1 Axes>"
      ]
     },
     "metadata": {
      "needs_background": "light"
     },
     "output_type": "display_data"
    },
    {
     "data": {
      "image/png": "[encoded data removed]",
      "text/plain": [
       "<Figure size 432x288 with 1 Axes>"
      ]
     },
     "metadata": {
      "needs_background": "light"
     },
     "output_type": "display_data"
    }
   ],
   "source": [
    "plt.hist(df_train['PavedDrive'], bins=3)\n",
    "plt.title('Paved driveway')\n",
    "plt.show()\n",
    "\n",
    "plt.hist(df_train['CentralAir'], bins=2)\n",
    "plt.title('Central air conditioning')\n",
    "plt.show()\n",
    "\n",
    "plt.hist(df_train['HouseStyle'], bins=8)\n",
    "plt.title('Style of dwelling')\n",
    "plt.show()\n",
    "\n",
    "plt.hist(df_train['LandContour'], bins=4)\n",
    "plt.title('Flatness of the property')\n",
    "plt.show()"
   ]
  },
  {
   "cell_type": "code",
   "execution_count": 7,
   "metadata": {},
   "outputs": [
    {
     "data": {
      "image/png": "[encoded data removed]",
      "text/plain": [
       "<Figure size 720x504 with 1 Axes>"
      ]
     },
     "metadata": {
      "needs_background": "light"
     },
     "output_type": "display_data"
    }
   ],
   "source": [
    "data = [df_train['SalePrice']]\n",
    "fig = plt.figure(figsize =(10, 7))\n",
    "ax = fig.add_subplot(111)\n",
    "\n",
    "# Creating axes instance\n",
    "bp = ax.boxplot(data, patch_artist = True,\n",
    "\t\t\t\tnotch ='True', vert = 0)\n",
    "\n",
    "# Adding title\n",
    "plt.title(\"Prices For Sales\")\n",
    "\n",
    "# Removing top axes and right axes\n",
    "# ticks\n",
    "ax.get_xaxis().tick_bottom()\n",
    "ax.get_yaxis().tick_left()\n",
    "\t\n",
    "# show plot\n",
    "plt.show()"
   ]
  },
  {
   "cell_type": "code",
   "execution_count": 8,
   "metadata": {},
   "outputs": [
    {
     "data": {
      "image/png": "[encoded data removed]",
      "text/plain": [
       "<Figure size 432x288 with 1 Axes>"
      ]
     },
     "metadata": {
      "needs_background": "light"
     },
     "output_type": "display_data"
    },
    {
     "data": {
      "image/png": "[encoded data removed]",
      "text/plain": [
       "<Figure size 500x500 with 1 Axes>"
      ]
     },
     "metadata": {
      "needs_background": "light"
     },
     "output_type": "display_data"
    }
   ],
   "source": [
    "plt.scatter(df_train['LotFrontage'], df_train['SalePrice'])\n",
    "plt.rcParams.update({'figure.figsize':(5,5), 'figure.dpi':100})\n",
    "plt.title('Linear Feet vs Sales Prices')\n",
    "plt.xlabel('X - value')\n",
    "plt.ylabel('Y - value')\n",
    "plt.show()\n",
    "\n",
    "plt.scatter(df_train['LotArea'], df_train['SalePrice'])\n",
    "plt.rcParams.update({'figure.figsize':(5,5), 'figure.dpi':100})\n",
    "plt.title('Lot Size  vs Sales Prices')\n",
    "plt.xlabel('X - value')\n",
    "plt.ylabel('Y - value')\n",
    "plt.show()"
   ]
  },
  {
   "cell_type": "markdown",
   "metadata": {},
   "source": [
    "### Pre Process For Dataset"
   ]
  },
  {
   "cell_type": "markdown",
   "metadata": {},
   "source": [
    "Get Internal Features"
   ]
  },
  {
   "cell_type": "code",
   "execution_count": 9,
   "metadata": {},
   "outputs": [
    {
     "data": {
      "text/plain": [
       "array([[0.        ],\n",
       "       [0.33333333],\n",
       "       [0.33333333],\n",
       "       ...,\n",
       "       [0.66666667],\n",
       "       [0.        ],\n",
       "       [0.        ]])"
      ]
     },
     "execution_count": 9,
     "metadata": {},
     "output_type": "execute_result"
    }
   ],
   "source": [
    "scaler = preprocessing.MinMaxScaler()\n",
    "X = np.array(df_train['Fireplaces'])\n",
    "X = X.reshape(-1, 1)\n",
    "scaler.fit_transform(X)\n"
   ]
  },
  {
   "cell_type": "code",
   "execution_count": 10,
   "metadata": {},
   "outputs": [],
   "source": [
    "internal_featues1 = ['Electrical',\n",
    "                    'Heating',\n",
    "                    'HeatingQC',\n",
    "                    'CentralAir',\n",
    "                    'Utilities',\n",
    "                    'Fireplaces',\n",
    "                    'FireplaceQu',\n",
    "                    'KitchenAbvGr',\n",
    "                    'KitchenQual',\n",
    "                    'BedroomAbvGr',\n",
    "                    'MiscFeature',\n",
    "                    'GarageQual',\n",
    "                    'FullBath',\n",
    "                    'SalePrice']\n",
    "                    \n",
    "                    \n",
    "internal_features_dataset = df_train[internal_featues1]"
   ]
  },
  {
   "cell_type": "code",
   "execution_count": 11,
   "metadata": {},
   "outputs": [],
   "source": [
    "external_featues = ['Street',\n",
    "                    'YearBuilt',\n",
    "                    'LandSlope',\n",
    "                    'LotArea',\n",
    "                    'LotShape',\n",
    "                    'LotFrontage',\n",
    "                    'BldgType',\n",
    "                    'LandContour',\n",
    "                    'Exterior1st',\n",
    "                    'Foundation',\n",
    "                    'SalePrice']\n",
    "                    \n",
    "                    \n",
    "external_features_dataset = df_train[external_featues]"
   ]
  },
  {
   "cell_type": "code",
   "execution_count": 12,
   "metadata": {},
   "outputs": [
    {
     "data": {
      "text/html": [
       "<div>\n",
       "<style scoped>\n",
       "    .dataframe tbody tr th:only-of-type {\n",
       "        vertical-align: middle;\n",
       "    }\n",
       "\n",
       "    .dataframe tbody tr th {\n",
       "        vertical-align: top;\n",
       "    }\n",
       "\n",
       "    .dataframe thead th {\n",
       "        text-align: right;\n",
       "    }\n",
       "</style>\n",
       "<table border=\"1\" class=\"dataframe\">\n",
       "  <thead>\n",
       "    <tr style=\"text-align: right;\">\n",
       "      <th></th>\n",
       "      <th>Electrical</th>\n",
       "      <th>Heating</th>\n",
       "      <th>HeatingQC</th>\n",
       "      <th>CentralAir</th>\n",
       "      <th>Utilities</th>\n",
       "      <th>Fireplaces</th>\n",
       "      <th>FireplaceQu</th>\n",
       "      <th>KitchenAbvGr</th>\n",
       "      <th>KitchenQual</th>\n",
       "      <th>BedroomAbvGr</th>\n",
       "      <th>MiscFeature</th>\n",
       "      <th>GarageQual</th>\n",
       "      <th>FullBath</th>\n",
       "      <th>SalePrice</th>\n",
       "    </tr>\n",
       "  </thead>\n",
       "  <tbody>\n",
       "    <tr>\n",
       "      <th>0</th>\n",
       "      <td>SBrkr</td>\n",
       "      <td>GasA</td>\n",
       "      <td>Ex</td>\n",
       "      <td>Y</td>\n",
       "      <td>AllPub</td>\n",
       "      <td>0</td>\n",
       "      <td>NaN</td>\n",
       "      <td>1</td>\n",
       "      <td>Gd</td>\n",
       "      <td>3</td>\n",
       "      <td>NaN</td>\n",
       "      <td>TA</td>\n",
       "      <td>2</td>\n",
       "      <td>208500</td>\n",
       "    </tr>\n",
       "    <tr>\n",
       "      <th>1</th>\n",
       "      <td>SBrkr</td>\n",
       "      <td>GasA</td>\n",
       "      <td>Ex</td>\n",
       "      <td>Y</td>\n",
       "      <td>AllPub</td>\n",
       "      <td>1</td>\n",
       "      <td>TA</td>\n",
       "      <td>1</td>\n",
       "      <td>TA</td>\n",
       "      <td>3</td>\n",
       "      <td>NaN</td>\n",
       "      <td>TA</td>\n",
       "      <td>2</td>\n",
       "      <td>181500</td>\n",
       "    </tr>\n",
       "    <tr>\n",
       "      <th>2</th>\n",
       "      <td>SBrkr</td>\n",
       "      <td>GasA</td>\n",
       "      <td>Ex</td>\n",
       "      <td>Y</td>\n",
       "      <td>AllPub</td>\n",
       "      <td>1</td>\n",
       "      <td>TA</td>\n",
       "      <td>1</td>\n",
       "      <td>Gd</td>\n",
       "      <td>3</td>\n",
       "      <td>NaN</td>\n",
       "      <td>TA</td>\n",
       "      <td>2</td>\n",
       "      <td>223500</td>\n",
       "    </tr>\n",
       "    <tr>\n",
       "      <th>3</th>\n",
       "      <td>SBrkr</td>\n",
       "      <td>GasA</td>\n",
       "      <td>Gd</td>\n",
       "      <td>Y</td>\n",
       "      <td>AllPub</td>\n",
       "      <td>1</td>\n",
       "      <td>Gd</td>\n",
       "      <td>1</td>\n",
       "      <td>Gd</td>\n",
       "      <td>3</td>\n",
       "      <td>NaN</td>\n",
       "      <td>TA</td>\n",
       "      <td>1</td>\n",
       "      <td>140000</td>\n",
       "    </tr>\n",
       "    <tr>\n",
       "      <th>4</th>\n",
       "      <td>SBrkr</td>\n",
       "      <td>GasA</td>\n",
       "      <td>Ex</td>\n",
       "      <td>Y</td>\n",
       "      <td>AllPub</td>\n",
       "      <td>1</td>\n",
       "      <td>TA</td>\n",
       "      <td>1</td>\n",
       "      <td>Gd</td>\n",
       "      <td>4</td>\n",
       "      <td>NaN</td>\n",
       "      <td>TA</td>\n",
       "      <td>2</td>\n",
       "      <td>250000</td>\n",
       "    </tr>\n",
       "    <tr>\n",
       "      <th>...</th>\n",
       "      <td>...</td>\n",
       "      <td>...</td>\n",
       "      <td>...</td>\n",
       "      <td>...</td>\n",
       "      <td>...</td>\n",
       "      <td>...</td>\n",
       "      <td>...</td>\n",
       "      <td>...</td>\n",
       "      <td>...</td>\n",
       "      <td>...</td>\n",
       "      <td>...</td>\n",
       "      <td>...</td>\n",
       "      <td>...</td>\n",
       "      <td>...</td>\n",
       "    </tr>\n",
       "    <tr>\n",
       "      <th>1455</th>\n",
       "      <td>SBrkr</td>\n",
       "      <td>GasA</td>\n",
       "      <td>Ex</td>\n",
       "      <td>Y</td>\n",
       "      <td>AllPub</td>\n",
       "      <td>1</td>\n",
       "      <td>TA</td>\n",
       "      <td>1</td>\n",
       "      <td>TA</td>\n",
       "      <td>3</td>\n",
       "      <td>NaN</td>\n",
       "      <td>TA</td>\n",
       "      <td>2</td>\n",
       "      <td>175000</td>\n",
       "    </tr>\n",
       "    <tr>\n",
       "      <th>1456</th>\n",
       "      <td>SBrkr</td>\n",
       "      <td>GasA</td>\n",
       "      <td>TA</td>\n",
       "      <td>Y</td>\n",
       "      <td>AllPub</td>\n",
       "      <td>2</td>\n",
       "      <td>TA</td>\n",
       "      <td>1</td>\n",
       "      <td>TA</td>\n",
       "      <td>3</td>\n",
       "      <td>NaN</td>\n",
       "      <td>TA</td>\n",
       "      <td>2</td>\n",
       "      <td>210000</td>\n",
       "    </tr>\n",
       "    <tr>\n",
       "      <th>1457</th>\n",
       "      <td>SBrkr</td>\n",
       "      <td>GasA</td>\n",
       "      <td>Ex</td>\n",
       "      <td>Y</td>\n",
       "      <td>AllPub</td>\n",
       "      <td>2</td>\n",
       "      <td>Gd</td>\n",
       "      <td>1</td>\n",
       "      <td>Gd</td>\n",
       "      <td>4</td>\n",
       "      <td>Shed</td>\n",
       "      <td>TA</td>\n",
       "      <td>2</td>\n",
       "      <td>266500</td>\n",
       "    </tr>\n",
       "    <tr>\n",
       "      <th>1458</th>\n",
       "      <td>FuseA</td>\n",
       "      <td>GasA</td>\n",
       "      <td>Gd</td>\n",
       "      <td>Y</td>\n",
       "      <td>AllPub</td>\n",
       "      <td>0</td>\n",
       "      <td>NaN</td>\n",
       "      <td>1</td>\n",
       "      <td>Gd</td>\n",
       "      <td>2</td>\n",
       "      <td>NaN</td>\n",
       "      <td>TA</td>\n",
       "      <td>1</td>\n",
       "      <td>142125</td>\n",
       "    </tr>\n",
       "    <tr>\n",
       "      <th>1459</th>\n",
       "      <td>SBrkr</td>\n",
       "      <td>GasA</td>\n",
       "      <td>Gd</td>\n",
       "      <td>Y</td>\n",
       "      <td>AllPub</td>\n",
       "      <td>0</td>\n",
       "      <td>NaN</td>\n",
       "      <td>1</td>\n",
       "      <td>TA</td>\n",
       "      <td>3</td>\n",
       "      <td>NaN</td>\n",
       "      <td>TA</td>\n",
       "      <td>1</td>\n",
       "      <td>147500</td>\n",
       "    </tr>\n",
       "  </tbody>\n",
       "</table>\n",
       "<p>1460 rows × 14 columns</p>\n",
       "</div>"
      ],
      "text/plain": [
       "     Electrical Heating HeatingQC CentralAir Utilities  Fireplaces  \\\n",
       "0         SBrkr    GasA        Ex          Y    AllPub           0   \n",
       "1         SBrkr    GasA        Ex          Y    AllPub           1   \n",
       "2         SBrkr    GasA        Ex          Y    AllPub           1   \n",
       "3         SBrkr    GasA        Gd          Y    AllPub           1   \n",
       "4         SBrkr    GasA        Ex          Y    AllPub           1   \n",
       "...         ...     ...       ...        ...       ...         ...   \n",
       "1455      SBrkr    GasA        Ex          Y    AllPub           1   \n",
       "1456      SBrkr    GasA        TA          Y    AllPub           2   \n",
       "1457      SBrkr    GasA        Ex          Y    AllPub           2   \n",
       "1458      FuseA    GasA        Gd          Y    AllPub           0   \n",
       "1459      SBrkr    GasA        Gd          Y    AllPub           0   \n",
       "\n",
       "     FireplaceQu  KitchenAbvGr KitchenQual  BedroomAbvGr MiscFeature  \\\n",
       "0            NaN             1          Gd             3         NaN   \n",
       "1             TA             1          TA             3         NaN   \n",
       "2             TA             1          Gd             3         NaN   \n",
       "3             Gd             1          Gd             3         NaN   \n",
       "4             TA             1          Gd             4         NaN   \n",
       "...          ...           ...         ...           ...         ...   \n",
       "1455          TA             1          TA             3         NaN   \n",
       "1456          TA             1          TA             3         NaN   \n",
       "1457          Gd             1          Gd             4        Shed   \n",
       "1458         NaN             1          Gd             2         NaN   \n",
       "1459         NaN             1          TA             3         NaN   \n",
       "\n",
       "     GarageQual  FullBath  SalePrice  \n",
       "0            TA         2     208500  \n",
       "1            TA         2     181500  \n",
       "2            TA         2     223500  \n",
       "3            TA         1     140000  \n",
       "4            TA         2     250000  \n",
       "...         ...       ...        ...  \n",
       "1455         TA         2     175000  \n",
       "1456         TA         2     210000  \n",
       "1457         TA         2     266500  \n",
       "1458         TA         1     142125  \n",
       "1459         TA         1     147500  \n",
       "\n",
       "[1460 rows x 14 columns]"
      ]
     },
     "execution_count": 12,
     "metadata": {},
     "output_type": "execute_result"
    }
   ],
   "source": [
    "internal_features_dataset"
   ]
  },
  {
   "cell_type": "code",
   "execution_count": 13,
   "metadata": {},
   "outputs": [
    {
     "data": {
      "text/html": [
       "<div>\n",
       "<style scoped>\n",
       "    .dataframe tbody tr th:only-of-type {\n",
       "        vertical-align: middle;\n",
       "    }\n",
       "\n",
       "    .dataframe tbody tr th {\n",
       "        vertical-align: top;\n",
       "    }\n",
       "\n",
       "    .dataframe thead th {\n",
       "        text-align: right;\n",
       "    }\n",
       "</style>\n",
       "<table border=\"1\" class=\"dataframe\">\n",
       "  <thead>\n",
       "    <tr style=\"text-align: right;\">\n",
       "      <th></th>\n",
       "      <th>Street</th>\n",
       "      <th>YearBuilt</th>\n",
       "      <th>LandSlope</th>\n",
       "      <th>LotArea</th>\n",
       "      <th>LotShape</th>\n",
       "      <th>LotFrontage</th>\n",
       "      <th>BldgType</th>\n",
       "      <th>LandContour</th>\n",
       "      <th>Exterior1st</th>\n",
       "      <th>Foundation</th>\n",
       "      <th>SalePrice</th>\n",
       "    </tr>\n",
       "  </thead>\n",
       "  <tbody>\n",
       "    <tr>\n",
       "      <th>0</th>\n",
       "      <td>Pave</td>\n",
       "      <td>2003</td>\n",
       "      <td>Gtl</td>\n",
       "      <td>8450</td>\n",
       "      <td>Reg</td>\n",
       "      <td>65.0</td>\n",
       "      <td>1Fam</td>\n",
       "      <td>Lvl</td>\n",
       "      <td>VinylSd</td>\n",
       "      <td>PConc</td>\n",
       "      <td>208500</td>\n",
       "    </tr>\n",
       "    <tr>\n",
       "      <th>1</th>\n",
       "      <td>Pave</td>\n",
       "      <td>1976</td>\n",
       "      <td>Gtl</td>\n",
       "      <td>9600</td>\n",
       "      <td>Reg</td>\n",
       "      <td>80.0</td>\n",
       "      <td>1Fam</td>\n",
       "      <td>Lvl</td>\n",
       "      <td>MetalSd</td>\n",
       "      <td>CBlock</td>\n",
       "      <td>181500</td>\n",
       "    </tr>\n",
       "    <tr>\n",
       "      <th>2</th>\n",
       "      <td>Pave</td>\n",
       "      <td>2001</td>\n",
       "      <td>Gtl</td>\n",
       "      <td>11250</td>\n",
       "      <td>IR1</td>\n",
       "      <td>68.0</td>\n",
       "      <td>1Fam</td>\n",
       "      <td>Lvl</td>\n",
       "      <td>VinylSd</td>\n",
       "      <td>PConc</td>\n",
       "      <td>223500</td>\n",
       "    </tr>\n",
       "    <tr>\n",
       "      <th>3</th>\n",
       "      <td>Pave</td>\n",
       "      <td>1915</td>\n",
       "      <td>Gtl</td>\n",
       "      <td>9550</td>\n",
       "      <td>IR1</td>\n",
       "      <td>60.0</td>\n",
       "      <td>1Fam</td>\n",
       "      <td>Lvl</td>\n",
       "      <td>Wd Sdng</td>\n",
       "      <td>BrkTil</td>\n",
       "      <td>140000</td>\n",
       "    </tr>\n",
       "    <tr>\n",
       "      <th>4</th>\n",
       "      <td>Pave</td>\n",
       "      <td>2000</td>\n",
       "      <td>Gtl</td>\n",
       "      <td>14260</td>\n",
       "      <td>IR1</td>\n",
       "      <td>84.0</td>\n",
       "      <td>1Fam</td>\n",
       "      <td>Lvl</td>\n",
       "      <td>VinylSd</td>\n",
       "      <td>PConc</td>\n",
       "      <td>250000</td>\n",
       "    </tr>\n",
       "    <tr>\n",
       "      <th>...</th>\n",
       "      <td>...</td>\n",
       "      <td>...</td>\n",
       "      <td>...</td>\n",
       "      <td>...</td>\n",
       "      <td>...</td>\n",
       "      <td>...</td>\n",
       "      <td>...</td>\n",
       "      <td>...</td>\n",
       "      <td>...</td>\n",
       "      <td>...</td>\n",
       "      <td>...</td>\n",
       "    </tr>\n",
       "    <tr>\n",
       "      <th>1455</th>\n",
       "      <td>Pave</td>\n",
       "      <td>1999</td>\n",
       "      <td>Gtl</td>\n",
       "      <td>7917</td>\n",
       "      <td>Reg</td>\n",
       "      <td>62.0</td>\n",
       "      <td>1Fam</td>\n",
       "      <td>Lvl</td>\n",
       "      <td>VinylSd</td>\n",
       "      <td>PConc</td>\n",
       "      <td>175000</td>\n",
       "    </tr>\n",
       "    <tr>\n",
       "      <th>1456</th>\n",
       "      <td>Pave</td>\n",
       "      <td>1978</td>\n",
       "      <td>Gtl</td>\n",
       "      <td>13175</td>\n",
       "      <td>Reg</td>\n",
       "      <td>85.0</td>\n",
       "      <td>1Fam</td>\n",
       "      <td>Lvl</td>\n",
       "      <td>Plywood</td>\n",
       "      <td>CBlock</td>\n",
       "      <td>210000</td>\n",
       "    </tr>\n",
       "    <tr>\n",
       "      <th>1457</th>\n",
       "      <td>Pave</td>\n",
       "      <td>1941</td>\n",
       "      <td>Gtl</td>\n",
       "      <td>9042</td>\n",
       "      <td>Reg</td>\n",
       "      <td>66.0</td>\n",
       "      <td>1Fam</td>\n",
       "      <td>Lvl</td>\n",
       "      <td>CemntBd</td>\n",
       "      <td>Stone</td>\n",
       "      <td>266500</td>\n",
       "    </tr>\n",
       "    <tr>\n",
       "      <th>1458</th>\n",
       "      <td>Pave</td>\n",
       "      <td>1950</td>\n",
       "      <td>Gtl</td>\n",
       "      <td>9717</td>\n",
       "      <td>Reg</td>\n",
       "      <td>68.0</td>\n",
       "      <td>1Fam</td>\n",
       "      <td>Lvl</td>\n",
       "      <td>MetalSd</td>\n",
       "      <td>CBlock</td>\n",
       "      <td>142125</td>\n",
       "    </tr>\n",
       "    <tr>\n",
       "      <th>1459</th>\n",
       "      <td>Pave</td>\n",
       "      <td>1965</td>\n",
       "      <td>Gtl</td>\n",
       "      <td>9937</td>\n",
       "      <td>Reg</td>\n",
       "      <td>75.0</td>\n",
       "      <td>1Fam</td>\n",
       "      <td>Lvl</td>\n",
       "      <td>HdBoard</td>\n",
       "      <td>CBlock</td>\n",
       "      <td>147500</td>\n",
       "    </tr>\n",
       "  </tbody>\n",
       "</table>\n",
       "<p>1460 rows × 11 columns</p>\n",
       "</div>"
      ],
      "text/plain": [
       "     Street  YearBuilt LandSlope  LotArea LotShape  LotFrontage BldgType  \\\n",
       "0      Pave       2003       Gtl     8450      Reg         65.0     1Fam   \n",
       "1      Pave       1976       Gtl     9600      Reg         80.0     1Fam   \n",
       "2      Pave       2001       Gtl    11250      IR1         68.0     1Fam   \n",
       "3      Pave       1915       Gtl     9550      IR1         60.0     1Fam   \n",
       "4      Pave       2000       Gtl    14260      IR1         84.0     1Fam   \n",
       "...     ...        ...       ...      ...      ...          ...      ...   \n",
       "1455   Pave       1999       Gtl     7917      Reg         62.0     1Fam   \n",
       "1456   Pave       1978       Gtl    13175      Reg         85.0     1Fam   \n",
       "1457   Pave       1941       Gtl     9042      Reg         66.0     1Fam   \n",
       "1458   Pave       1950       Gtl     9717      Reg         68.0     1Fam   \n",
       "1459   Pave       1965       Gtl     9937      Reg         75.0     1Fam   \n",
       "\n",
       "     LandContour Exterior1st Foundation  SalePrice  \n",
       "0            Lvl     VinylSd      PConc     208500  \n",
       "1            Lvl     MetalSd     CBlock     181500  \n",
       "2            Lvl     VinylSd      PConc     223500  \n",
       "3            Lvl     Wd Sdng     BrkTil     140000  \n",
       "4            Lvl     VinylSd      PConc     250000  \n",
       "...          ...         ...        ...        ...  \n",
       "1455         Lvl     VinylSd      PConc     175000  \n",
       "1456         Lvl     Plywood     CBlock     210000  \n",
       "1457         Lvl     CemntBd      Stone     266500  \n",
       "1458         Lvl     MetalSd     CBlock     142125  \n",
       "1459         Lvl     HdBoard     CBlock     147500  \n",
       "\n",
       "[1460 rows x 11 columns]"
      ]
     },
     "execution_count": 13,
     "metadata": {},
     "output_type": "execute_result"
    }
   ],
   "source": [
    "external_features_dataset"
   ]
  },
  {
   "cell_type": "code",
   "execution_count": 14,
   "metadata": {},
   "outputs": [
    {
     "name": "stdout",
     "output_type": "stream",
     "text": [
      "SalePrice       1.000000\n",
      "FullBath        0.560664\n",
      "Fireplaces      0.466929\n",
      "BedroomAbvGr    0.168213\n",
      "KitchenAbvGr   -0.135907\n",
      "Name: SalePrice, dtype: float64\n"
     ]
    }
   ],
   "source": [
    "corr = internal_features_dataset.corr()\n",
    "corr.sort_values([\"SalePrice\"], ascending = False, inplace = True)\n",
    "print(corr.SalePrice)"
   ]
  },
  {
   "cell_type": "code",
   "execution_count": 15,
   "metadata": {},
   "outputs": [
    {
     "name": "stdout",
     "output_type": "stream",
     "text": [
      "SalePrice      1.000000\n",
      "YearBuilt      0.522897\n",
      "LotFrontage    0.351799\n",
      "LotArea        0.263843\n",
      "Name: SalePrice, dtype: float64\n"
     ]
    }
   ],
   "source": [
    "corr2 = external_features_dataset.corr()\n",
    "corr2.sort_values([\"SalePrice\"], ascending = False, inplace = True)\n",
    "print(corr2.SalePrice)"
   ]
  },
  {
   "cell_type": "code",
   "execution_count": 16,
   "metadata": {},
   "outputs": [],
   "source": [
    "step = (df_train['SalePrice'].max() - df_train['SalePrice'].min()) // 5\n",
    "min = df_train['SalePrice'].min()                      #34900\n",
    "bound1 = step + df_train['SalePrice'].min()            #178920\n",
    "bound2 = (2 * step) + df_train['SalePrice'].min()      #322940\n",
    "bound3 = (3 * step) + df_train['SalePrice'].min()      #466960\n",
    "bound4 = (4 * step) + df_train['SalePrice'].min()      #610980\n",
    "max = df_train['SalePrice'].max()                      #755000"
   ]
  },
  {
   "cell_type": "code",
   "execution_count": 17,
   "metadata": {},
   "outputs": [],
   "source": [
    "class_y = df_train['SalePrice'].mask((df_train['SalePrice'] >= min) & (bound1 > df_train['SalePrice']),1)\n",
    "class_y = class_y.mask((class_y >= bound1) & (bound2 > class_y),2)\n",
    "class_y = class_y.mask((class_y >= bound2) & (bound3 > class_y),3)\n",
    "class_y = class_y.mask((class_y >= bound3) & (bound4 > class_y),4)\n",
    "class_y = class_y.mask((class_y >= bound4) & (max >= class_y),5)"
   ]
  },
  {
   "cell_type": "code",
   "execution_count": 18,
   "metadata": {},
   "outputs": [
    {
     "data": {
      "text/plain": [
       "0       2\n",
       "1       2\n",
       "2       2\n",
       "3       1\n",
       "4       2\n",
       "       ..\n",
       "1455    1\n",
       "1456    2\n",
       "1457    2\n",
       "1458    1\n",
       "1459    1\n",
       "Name: SalePrice, Length: 1460, dtype: int64"
      ]
     },
     "execution_count": 18,
     "metadata": {},
     "output_type": "execute_result"
    }
   ],
   "source": [
    "class_y"
   ]
  },
  {
   "cell_type": "code",
   "execution_count": 19,
   "metadata": {},
   "outputs": [
    {
     "data": {
      "image/png": "[encoded data removed]",
      "text/plain": [
       "<Figure size 500x500 with 1 Axes>"
      ]
     },
     "metadata": {
      "needs_background": "light"
     },
     "output_type": "display_data"
    }
   ],
   "source": [
    "\n",
    "sns.countplot(class_y,label=\"Count\")\n",
    "plt.show()"
   ]
  },
  {
   "cell_type": "code",
   "execution_count": 20,
   "metadata": {},
   "outputs": [
    {
     "name": "stderr",
     "output_type": "stream",
     "text": [
      "C:\\Users\\Lenovo\\anaconda3\\lib\\site-packages\\pandas\\core\\indexing.py:966: SettingWithCopyWarning: \n",
      "A value is trying to be set on a copy of a slice from a DataFrame.\n",
      "Try using .loc[row_indexer,col_indexer] = value instead\n",
      "\n",
      "See the caveats in the documentation: https://pandas.pydata.org/pandas-docs/stable/user_guide/indexing.html#returning-a-view-versus-a-copy\n",
      "  self.obj[item] = s\n"
     ]
    }
   ],
   "source": [
    "internal_features_dataset.loc[:,\"MiscFeature\"] = internal_features_dataset.loc[:,\"MiscFeature\"].fillna(\"None\")\n",
    "internal_features_dataset.loc[:,\"Utilities\"] = internal_features_dataset.loc[:,\"Utilities\"].fillna(\"None\")\n",
    "internal_features_dataset.loc[:,\"Electrical\"] = internal_features_dataset.loc[:,\"Electrical\"].fillna(\"None\")\n",
    "internal_features_dataset.loc[:,\"CentralAir\"] = internal_features_dataset.loc[:,\"CentralAir\"].fillna(\"N\")\n",
    "internal_features_dataset.loc[:,\"Heating\"] = internal_features_dataset.loc[:,\"Heating\"].fillna(\"None\")\n",
    "internal_features_dataset.loc[:,\"HeatingQC\"] = internal_features_dataset.loc[:,\"HeatingQC\"].fillna(\"None\")\n",
    "internal_features_dataset.loc[:,\"FireplaceQu\"] = internal_features_dataset.loc[:,\"FireplaceQu\"].fillna(\"None\")\n",
    "internal_features_dataset.loc[:,\"KitchenQual\"] = internal_features_dataset.loc[:,\"KitchenQual\"].fillna(\"None\")\n",
    "internal_features_dataset.loc[:,\"GarageQual\"] = internal_features_dataset.loc[:,\"GarageQual\"].fillna(\"None\")"
   ]
  },
  {
   "cell_type": "code",
   "execution_count": 21,
   "metadata": {},
   "outputs": [
    {
     "name": "stderr",
     "output_type": "stream",
     "text": [
      "C:\\Users\\Lenovo\\anaconda3\\lib\\site-packages\\pandas\\core\\indexing.py:845: SettingWithCopyWarning: \n",
      "A value is trying to be set on a copy of a slice from a DataFrame.\n",
      "Try using .loc[row_indexer,col_indexer] = value instead\n",
      "\n",
      "See the caveats in the documentation: https://pandas.pydata.org/pandas-docs/stable/user_guide/indexing.html#returning-a-view-versus-a-copy\n",
      "  self.obj[key] = _infer_fill_value(value)\n"
     ]
    }
   ],
   "source": [
    "external_features_dataset.loc[:,\"Street\"] = external_features_dataset.loc[:,\"Street\"].fillna(\"None\")\n",
    "external_features_dataset.loc[:,\"LotShape\"] = external_features_dataset.loc[:,\"LotShape\"].fillna(\"None\")\n",
    "external_features_dataset.loc[:,\"LandContour\"] = external_features_dataset.loc[:,\"LandContour\"].fillna(\"None\")\n",
    "external_features_dataset.loc[:,\"LandSlope\"] = external_features_dataset.loc[:,\"LandSlope\"].fillna(\"None\")\n",
    "external_features_dataset.loc[:,\"BldgType\"] = external_features_dataset.loc[:,\"BldgType\"].fillna(\"None\")\n",
    "external_features_dataset.loc[:,\"Exterior1st\"] = external_features_dataset.loc[:,\"Exterior1st\"].fillna(\"None\")\n",
    "external_features_dataset.loc[:,\"Foundation\"] = external_features_dataset.loc[:,\"Foundation\"].fillna(\"None\")\n",
    "external_features_dataset.loc[:,\"YearBuilt\"] = external_features_dataset.loc[:,\"YearBuilt\"].fillna(1900)\n",
    "external_features_dataset.loc[:,\"LotArea\"] = external_features_dataset.loc[:,\"LotArea\"].fillna(df_train[\"LotArea\"].mean())\n",
    "external_features_dataset.loc[:,\"LotFrontage \"] = external_features_dataset.loc[:,\"LotFrontage\"].fillna(df_train[\"LotFrontage\"].mean())\n",
    "external_features_dataset.loc[:,\"Foundation\"] = external_features_dataset.loc[:,\"Foundation\"].fillna(\"None\")"
   ]
  },
  {
   "cell_type": "code",
   "execution_count": 22,
   "metadata": {},
   "outputs": [],
   "source": [
    "nan_idx_array = external_features_dataset['LotFrontage'].index[df_train['LotFrontage'].apply(np.isnan)]"
   ]
  },
  {
   "cell_type": "code",
   "execution_count": 23,
   "metadata": {},
   "outputs": [
    {
     "name": "stderr",
     "output_type": "stream",
     "text": [
      "C:\\Users\\Lenovo\\anaconda3\\lib\\site-packages\\pandas\\core\\indexing.py:671: SettingWithCopyWarning: \n",
      "A value is trying to be set on a copy of a slice from a DataFrame\n",
      "\n",
      "See the caveats in the documentation: https://pandas.pydata.org/pandas-docs/stable/user_guide/indexing.html#returning-a-view-versus-a-copy\n",
      "  self._setitem_with_indexer(indexer, value)\n",
      "C:\\Users\\Public\\Documents\\Wondershare\\CreatorTemp/ipykernel_13924/2509988170.py:2: SettingWithCopyWarning: \n",
      "A value is trying to be set on a copy of a slice from a DataFrame\n",
      "\n",
      "See the caveats in the documentation: https://pandas.pydata.org/pandas-docs/stable/user_guide/indexing.html#returning-a-view-versus-a-copy\n",
      "  external_features_dataset['LotFrontage'].iloc[idx] = df_train[\"LotFrontage\"].mean()\n"
     ]
    }
   ],
   "source": [
    "for idx in nan_idx_array:\n",
    "    external_features_dataset['LotFrontage'].iloc[idx] = df_train[\"LotFrontage\"].mean()"
   ]
  },
  {
   "cell_type": "code",
   "execution_count": 24,
   "metadata": {},
   "outputs": [
    {
     "data": {
      "text/html": [
       "<div>\n",
       "<style scoped>\n",
       "    .dataframe tbody tr th:only-of-type {\n",
       "        vertical-align: middle;\n",
       "    }\n",
       "\n",
       "    .dataframe tbody tr th {\n",
       "        vertical-align: top;\n",
       "    }\n",
       "\n",
       "    .dataframe thead th {\n",
       "        text-align: right;\n",
       "    }\n",
       "</style>\n",
       "<table border=\"1\" class=\"dataframe\">\n",
       "  <thead>\n",
       "    <tr style=\"text-align: right;\">\n",
       "      <th></th>\n",
       "      <th>Electrical</th>\n",
       "      <th>Heating</th>\n",
       "      <th>HeatingQC</th>\n",
       "      <th>CentralAir</th>\n",
       "      <th>Utilities</th>\n",
       "      <th>Fireplaces</th>\n",
       "      <th>FireplaceQu</th>\n",
       "      <th>KitchenAbvGr</th>\n",
       "      <th>KitchenQual</th>\n",
       "      <th>BedroomAbvGr</th>\n",
       "      <th>MiscFeature</th>\n",
       "      <th>GarageQual</th>\n",
       "      <th>FullBath</th>\n",
       "      <th>SalePrice</th>\n",
       "    </tr>\n",
       "  </thead>\n",
       "  <tbody>\n",
       "    <tr>\n",
       "      <th>0</th>\n",
       "      <td>1</td>\n",
       "      <td>2</td>\n",
       "      <td>1</td>\n",
       "      <td>2</td>\n",
       "      <td>1</td>\n",
       "      <td>0</td>\n",
       "      <td>6</td>\n",
       "      <td>1</td>\n",
       "      <td>2</td>\n",
       "      <td>3</td>\n",
       "      <td>6</td>\n",
       "      <td>3</td>\n",
       "      <td>2</td>\n",
       "      <td>208500</td>\n",
       "    </tr>\n",
       "    <tr>\n",
       "      <th>1</th>\n",
       "      <td>1</td>\n",
       "      <td>2</td>\n",
       "      <td>1</td>\n",
       "      <td>2</td>\n",
       "      <td>1</td>\n",
       "      <td>1</td>\n",
       "      <td>3</td>\n",
       "      <td>1</td>\n",
       "      <td>3</td>\n",
       "      <td>3</td>\n",
       "      <td>6</td>\n",
       "      <td>3</td>\n",
       "      <td>2</td>\n",
       "      <td>181500</td>\n",
       "    </tr>\n",
       "    <tr>\n",
       "      <th>2</th>\n",
       "      <td>1</td>\n",
       "      <td>2</td>\n",
       "      <td>1</td>\n",
       "      <td>2</td>\n",
       "      <td>1</td>\n",
       "      <td>1</td>\n",
       "      <td>3</td>\n",
       "      <td>1</td>\n",
       "      <td>2</td>\n",
       "      <td>3</td>\n",
       "      <td>6</td>\n",
       "      <td>3</td>\n",
       "      <td>2</td>\n",
       "      <td>223500</td>\n",
       "    </tr>\n",
       "    <tr>\n",
       "      <th>3</th>\n",
       "      <td>1</td>\n",
       "      <td>2</td>\n",
       "      <td>2</td>\n",
       "      <td>2</td>\n",
       "      <td>1</td>\n",
       "      <td>1</td>\n",
       "      <td>2</td>\n",
       "      <td>1</td>\n",
       "      <td>2</td>\n",
       "      <td>3</td>\n",
       "      <td>6</td>\n",
       "      <td>3</td>\n",
       "      <td>1</td>\n",
       "      <td>140000</td>\n",
       "    </tr>\n",
       "    <tr>\n",
       "      <th>4</th>\n",
       "      <td>1</td>\n",
       "      <td>2</td>\n",
       "      <td>1</td>\n",
       "      <td>2</td>\n",
       "      <td>1</td>\n",
       "      <td>1</td>\n",
       "      <td>3</td>\n",
       "      <td>1</td>\n",
       "      <td>2</td>\n",
       "      <td>4</td>\n",
       "      <td>6</td>\n",
       "      <td>3</td>\n",
       "      <td>2</td>\n",
       "      <td>250000</td>\n",
       "    </tr>\n",
       "    <tr>\n",
       "      <th>...</th>\n",
       "      <td>...</td>\n",
       "      <td>...</td>\n",
       "      <td>...</td>\n",
       "      <td>...</td>\n",
       "      <td>...</td>\n",
       "      <td>...</td>\n",
       "      <td>...</td>\n",
       "      <td>...</td>\n",
       "      <td>...</td>\n",
       "      <td>...</td>\n",
       "      <td>...</td>\n",
       "      <td>...</td>\n",
       "      <td>...</td>\n",
       "      <td>...</td>\n",
       "    </tr>\n",
       "    <tr>\n",
       "      <th>1455</th>\n",
       "      <td>1</td>\n",
       "      <td>2</td>\n",
       "      <td>1</td>\n",
       "      <td>2</td>\n",
       "      <td>1</td>\n",
       "      <td>1</td>\n",
       "      <td>3</td>\n",
       "      <td>1</td>\n",
       "      <td>3</td>\n",
       "      <td>3</td>\n",
       "      <td>6</td>\n",
       "      <td>3</td>\n",
       "      <td>2</td>\n",
       "      <td>175000</td>\n",
       "    </tr>\n",
       "    <tr>\n",
       "      <th>1456</th>\n",
       "      <td>1</td>\n",
       "      <td>2</td>\n",
       "      <td>3</td>\n",
       "      <td>2</td>\n",
       "      <td>1</td>\n",
       "      <td>2</td>\n",
       "      <td>3</td>\n",
       "      <td>1</td>\n",
       "      <td>3</td>\n",
       "      <td>3</td>\n",
       "      <td>6</td>\n",
       "      <td>3</td>\n",
       "      <td>2</td>\n",
       "      <td>210000</td>\n",
       "    </tr>\n",
       "    <tr>\n",
       "      <th>1457</th>\n",
       "      <td>1</td>\n",
       "      <td>2</td>\n",
       "      <td>1</td>\n",
       "      <td>2</td>\n",
       "      <td>1</td>\n",
       "      <td>2</td>\n",
       "      <td>2</td>\n",
       "      <td>1</td>\n",
       "      <td>2</td>\n",
       "      <td>4</td>\n",
       "      <td>4</td>\n",
       "      <td>3</td>\n",
       "      <td>2</td>\n",
       "      <td>266500</td>\n",
       "    </tr>\n",
       "    <tr>\n",
       "      <th>1458</th>\n",
       "      <td>2</td>\n",
       "      <td>2</td>\n",
       "      <td>2</td>\n",
       "      <td>2</td>\n",
       "      <td>1</td>\n",
       "      <td>0</td>\n",
       "      <td>6</td>\n",
       "      <td>1</td>\n",
       "      <td>2</td>\n",
       "      <td>2</td>\n",
       "      <td>6</td>\n",
       "      <td>3</td>\n",
       "      <td>1</td>\n",
       "      <td>142125</td>\n",
       "    </tr>\n",
       "    <tr>\n",
       "      <th>1459</th>\n",
       "      <td>1</td>\n",
       "      <td>2</td>\n",
       "      <td>2</td>\n",
       "      <td>2</td>\n",
       "      <td>1</td>\n",
       "      <td>0</td>\n",
       "      <td>6</td>\n",
       "      <td>1</td>\n",
       "      <td>3</td>\n",
       "      <td>3</td>\n",
       "      <td>6</td>\n",
       "      <td>3</td>\n",
       "      <td>1</td>\n",
       "      <td>147500</td>\n",
       "    </tr>\n",
       "  </tbody>\n",
       "</table>\n",
       "<p>1460 rows × 14 columns</p>\n",
       "</div>"
      ],
      "text/plain": [
       "      Electrical  Heating  HeatingQC  CentralAir  Utilities  Fireplaces  \\\n",
       "0              1        2          1           2          1           0   \n",
       "1              1        2          1           2          1           1   \n",
       "2              1        2          1           2          1           1   \n",
       "3              1        2          2           2          1           1   \n",
       "4              1        2          1           2          1           1   \n",
       "...          ...      ...        ...         ...        ...         ...   \n",
       "1455           1        2          1           2          1           1   \n",
       "1456           1        2          3           2          1           2   \n",
       "1457           1        2          1           2          1           2   \n",
       "1458           2        2          2           2          1           0   \n",
       "1459           1        2          2           2          1           0   \n",
       "\n",
       "      FireplaceQu  KitchenAbvGr  KitchenQual  BedroomAbvGr  MiscFeature  \\\n",
       "0               6             1            2             3            6   \n",
       "1               3             1            3             3            6   \n",
       "2               3             1            2             3            6   \n",
       "3               2             1            2             3            6   \n",
       "4               3             1            2             4            6   \n",
       "...           ...           ...          ...           ...          ...   \n",
       "1455            3             1            3             3            6   \n",
       "1456            3             1            3             3            6   \n",
       "1457            2             1            2             4            4   \n",
       "1458            6             1            2             2            6   \n",
       "1459            6             1            3             3            6   \n",
       "\n",
       "      GarageQual  FullBath  SalePrice  \n",
       "0              3         2     208500  \n",
       "1              3         2     181500  \n",
       "2              3         2     223500  \n",
       "3              3         1     140000  \n",
       "4              3         2     250000  \n",
       "...          ...       ...        ...  \n",
       "1455           3         2     175000  \n",
       "1456           3         2     210000  \n",
       "1457           3         2     266500  \n",
       "1458           3         1     142125  \n",
       "1459           3         1     147500  \n",
       "\n",
       "[1460 rows x 14 columns]"
      ]
     },
     "execution_count": 24,
     "metadata": {},
     "output_type": "execute_result"
    }
   ],
   "source": [
    "internal_features_dataset = internal_features_dataset.replace({\n",
    "                                \"Heating\" : {\"Floor\" : 1, \"GasA\" : 2, \"GasW\": 3, \"Grav\": 4, \"OthW\" : 5, \"Wall\" : 6, \"None\" : 7},\n",
    "                                \"HeatingQC\" : {\"Ex\" : 1, \"Gd\" : 2, \"TA\": 3, \"Fa\": 4, \"Po\" : 5, \"None\" :6},\n",
    "                                \"FireplaceQu\" : {\"Ex\" : 1, \"Gd\" : 2, \"TA\": 3, \"Fa\": 4, \"Po\" : 5, \"None\" :6},\n",
    "                                \"KitchenQual\" : {\"Ex\" : 1, \"Gd\" : 2, \"TA\": 3, \"Fa\": 4, \"Po\" : 5, \"None\" :6},\n",
    "                                \"GarageQual\" : {\"Ex\" : 1, \"Gd\" : 2, \"TA\": 3, \"Fa\": 4, \"Po\" : 5, \"None\" :6},\n",
    "                               \"MiscFeature\" : {\"Elev\" : 1, \"Gar2\" : 2, \"Othr\" : 3, \"Shed\" : 4, \"TenC\": 5, \"None\" : 6},\n",
    "                               \"CentralAir\" : {\"N\" : 1, \"Y\" : 2},\n",
    "                               \"Electrical\" : {\"SBrkr\" : 1, \"FuseA\" : 2, \"FuseF\" : 3, \"FuseP\" : 4, \"Mix\" : 5, \"None\" : 6},\n",
    "                               \"Utilities\" : {\"AllPub\" : 1, \"NoSewr\" : 2, \"NoSeWa\" : 3, \"ELO\" : 4, \"None\" : 5}\n",
    "                                }\n",
    "                             )\n",
    "internal_features_dataset"
   ]
  },
  {
   "cell_type": "code",
   "execution_count": 25,
   "metadata": {},
   "outputs": [
    {
     "data": {
      "text/html": [
       "<div>\n",
       "<style scoped>\n",
       "    .dataframe tbody tr th:only-of-type {\n",
       "        vertical-align: middle;\n",
       "    }\n",
       "\n",
       "    .dataframe tbody tr th {\n",
       "        vertical-align: top;\n",
       "    }\n",
       "\n",
       "    .dataframe thead th {\n",
       "        text-align: right;\n",
       "    }\n",
       "</style>\n",
       "<table border=\"1\" class=\"dataframe\">\n",
       "  <thead>\n",
       "    <tr style=\"text-align: right;\">\n",
       "      <th></th>\n",
       "      <th>Street</th>\n",
       "      <th>YearBuilt</th>\n",
       "      <th>LandSlope</th>\n",
       "      <th>LotArea</th>\n",
       "      <th>LotShape</th>\n",
       "      <th>LotFrontage</th>\n",
       "      <th>BldgType</th>\n",
       "      <th>LandContour</th>\n",
       "      <th>Exterior1st</th>\n",
       "      <th>Foundation</th>\n",
       "      <th>SalePrice</th>\n",
       "      <th>LotFrontage</th>\n",
       "    </tr>\n",
       "  </thead>\n",
       "  <tbody>\n",
       "    <tr>\n",
       "      <th>0</th>\n",
       "      <td>2</td>\n",
       "      <td>2003</td>\n",
       "      <td>1</td>\n",
       "      <td>8450</td>\n",
       "      <td>1</td>\n",
       "      <td>65.0</td>\n",
       "      <td>1</td>\n",
       "      <td>1</td>\n",
       "      <td>15</td>\n",
       "      <td>3</td>\n",
       "      <td>208500</td>\n",
       "      <td>65.0</td>\n",
       "    </tr>\n",
       "    <tr>\n",
       "      <th>1</th>\n",
       "      <td>2</td>\n",
       "      <td>1976</td>\n",
       "      <td>1</td>\n",
       "      <td>9600</td>\n",
       "      <td>1</td>\n",
       "      <td>80.0</td>\n",
       "      <td>1</td>\n",
       "      <td>1</td>\n",
       "      <td>9</td>\n",
       "      <td>2</td>\n",
       "      <td>181500</td>\n",
       "      <td>80.0</td>\n",
       "    </tr>\n",
       "    <tr>\n",
       "      <th>2</th>\n",
       "      <td>2</td>\n",
       "      <td>2001</td>\n",
       "      <td>1</td>\n",
       "      <td>11250</td>\n",
       "      <td>2</td>\n",
       "      <td>68.0</td>\n",
       "      <td>1</td>\n",
       "      <td>1</td>\n",
       "      <td>15</td>\n",
       "      <td>3</td>\n",
       "      <td>223500</td>\n",
       "      <td>68.0</td>\n",
       "    </tr>\n",
       "    <tr>\n",
       "      <th>3</th>\n",
       "      <td>2</td>\n",
       "      <td>1915</td>\n",
       "      <td>1</td>\n",
       "      <td>9550</td>\n",
       "      <td>2</td>\n",
       "      <td>60.0</td>\n",
       "      <td>1</td>\n",
       "      <td>1</td>\n",
       "      <td>16</td>\n",
       "      <td>1</td>\n",
       "      <td>140000</td>\n",
       "      <td>60.0</td>\n",
       "    </tr>\n",
       "    <tr>\n",
       "      <th>4</th>\n",
       "      <td>2</td>\n",
       "      <td>2000</td>\n",
       "      <td>1</td>\n",
       "      <td>14260</td>\n",
       "      <td>2</td>\n",
       "      <td>84.0</td>\n",
       "      <td>1</td>\n",
       "      <td>1</td>\n",
       "      <td>15</td>\n",
       "      <td>3</td>\n",
       "      <td>250000</td>\n",
       "      <td>84.0</td>\n",
       "    </tr>\n",
       "    <tr>\n",
       "      <th>...</th>\n",
       "      <td>...</td>\n",
       "      <td>...</td>\n",
       "      <td>...</td>\n",
       "      <td>...</td>\n",
       "      <td>...</td>\n",
       "      <td>...</td>\n",
       "      <td>...</td>\n",
       "      <td>...</td>\n",
       "      <td>...</td>\n",
       "      <td>...</td>\n",
       "      <td>...</td>\n",
       "      <td>...</td>\n",
       "    </tr>\n",
       "    <tr>\n",
       "      <th>1455</th>\n",
       "      <td>2</td>\n",
       "      <td>1999</td>\n",
       "      <td>1</td>\n",
       "      <td>7917</td>\n",
       "      <td>1</td>\n",
       "      <td>62.0</td>\n",
       "      <td>1</td>\n",
       "      <td>1</td>\n",
       "      <td>15</td>\n",
       "      <td>3</td>\n",
       "      <td>175000</td>\n",
       "      <td>62.0</td>\n",
       "    </tr>\n",
       "    <tr>\n",
       "      <th>1456</th>\n",
       "      <td>2</td>\n",
       "      <td>1978</td>\n",
       "      <td>1</td>\n",
       "      <td>13175</td>\n",
       "      <td>1</td>\n",
       "      <td>85.0</td>\n",
       "      <td>1</td>\n",
       "      <td>1</td>\n",
       "      <td>11</td>\n",
       "      <td>2</td>\n",
       "      <td>210000</td>\n",
       "      <td>85.0</td>\n",
       "    </tr>\n",
       "    <tr>\n",
       "      <th>1457</th>\n",
       "      <td>2</td>\n",
       "      <td>1941</td>\n",
       "      <td>1</td>\n",
       "      <td>9042</td>\n",
       "      <td>1</td>\n",
       "      <td>66.0</td>\n",
       "      <td>1</td>\n",
       "      <td>1</td>\n",
       "      <td>6</td>\n",
       "      <td>5</td>\n",
       "      <td>266500</td>\n",
       "      <td>66.0</td>\n",
       "    </tr>\n",
       "    <tr>\n",
       "      <th>1458</th>\n",
       "      <td>2</td>\n",
       "      <td>1950</td>\n",
       "      <td>1</td>\n",
       "      <td>9717</td>\n",
       "      <td>1</td>\n",
       "      <td>68.0</td>\n",
       "      <td>1</td>\n",
       "      <td>1</td>\n",
       "      <td>9</td>\n",
       "      <td>2</td>\n",
       "      <td>142125</td>\n",
       "      <td>68.0</td>\n",
       "    </tr>\n",
       "    <tr>\n",
       "      <th>1459</th>\n",
       "      <td>2</td>\n",
       "      <td>1965</td>\n",
       "      <td>1</td>\n",
       "      <td>9937</td>\n",
       "      <td>1</td>\n",
       "      <td>75.0</td>\n",
       "      <td>1</td>\n",
       "      <td>1</td>\n",
       "      <td>7</td>\n",
       "      <td>2</td>\n",
       "      <td>147500</td>\n",
       "      <td>75.0</td>\n",
       "    </tr>\n",
       "  </tbody>\n",
       "</table>\n",
       "<p>1460 rows × 12 columns</p>\n",
       "</div>"
      ],
      "text/plain": [
       "      Street  YearBuilt  LandSlope  LotArea  LotShape  LotFrontage  BldgType  \\\n",
       "0          2       2003          1     8450         1         65.0         1   \n",
       "1          2       1976          1     9600         1         80.0         1   \n",
       "2          2       2001          1    11250         2         68.0         1   \n",
       "3          2       1915          1     9550         2         60.0         1   \n",
       "4          2       2000          1    14260         2         84.0         1   \n",
       "...      ...        ...        ...      ...       ...          ...       ...   \n",
       "1455       2       1999          1     7917         1         62.0         1   \n",
       "1456       2       1978          1    13175         1         85.0         1   \n",
       "1457       2       1941          1     9042         1         66.0         1   \n",
       "1458       2       1950          1     9717         1         68.0         1   \n",
       "1459       2       1965          1     9937         1         75.0         1   \n",
       "\n",
       "      LandContour  Exterior1st  Foundation  SalePrice  LotFrontage   \n",
       "0               1           15           3     208500          65.0  \n",
       "1               1            9           2     181500          80.0  \n",
       "2               1           15           3     223500          68.0  \n",
       "3               1           16           1     140000          60.0  \n",
       "4               1           15           3     250000          84.0  \n",
       "...           ...          ...         ...        ...           ...  \n",
       "1455            1           15           3     175000          62.0  \n",
       "1456            1           11           2     210000          85.0  \n",
       "1457            1            6           5     266500          66.0  \n",
       "1458            1            9           2     142125          68.0  \n",
       "1459            1            7           2     147500          75.0  \n",
       "\n",
       "[1460 rows x 12 columns]"
      ]
     },
     "execution_count": 25,
     "metadata": {},
     "output_type": "execute_result"
    }
   ],
   "source": [
    "external_features_dataset = external_features_dataset.replace({\"Street\" : {\"Grvl\" : 1, \"Pave\" : 2, \"None\" : 3},\n",
    "                               \"LotShape\" : {\"Reg\" : 1, \"IR1\" : 2, \"IR2\" : 3, \"IR3\" : 4, \"None\" : 5},\n",
    "                               \"LandContour\" : {\"Lvl\" : 1, \"Bnk\" : 2, \"HLS\" : 3, \"Low\" : 4, \"None\" : 5},\n",
    "                               \"LandSlope\" : {\"Gtl\" : 1, \"Mod\" : 2, \"Sev\" : 3, \"None\" : 4},\n",
    "                               \"BldgType\" : {\"1Fam\" : 1, \"2fmCon\" : 2, \"Duplex\" : 3, \"TwnhsE\" : 4, \"Twnhs\" : 5, \"None\" : 6},\n",
    "                               \"Exterior1st\" : {\"AsbShng\" : 1, \"AsphShn\" : 2, \"BrkComm\" : 3, \"BrkFace\" : 4, \"CBlock\" : 5, \"CemntBd\" : 6, \"HdBoard\" : 7, \"ImStucc\" : 8, \"MetalSd\" : 9, \"Other\" : 10, \"Plywood\" : 11, \"PreCast\" : 12, \"Stone\" : 13, \"Stucco\" : 14, \"VinylSd\" : 15, \"Wd Sdng\" : 16, \"WdShing\" : 17, \"None\" : 18},\n",
    "                               \"Foundation\" : {\"BrkTil\" : 1, \"CBlock\" : 2, \"PConc\" : 3, \"Slab\" : 4, \"Stone\" : 5, \"Wood\" : 6, \"None\" : 7}}\n",
    "                             )\n",
    "external_features_dataset"
   ]
  },
  {
   "cell_type": "code",
   "execution_count": 26,
   "metadata": {},
   "outputs": [],
   "source": [
    "\n",
    "internal_features_dataset = internal_features_dataset.drop(columns=['SalePrice'])"
   ]
  },
  {
   "cell_type": "code",
   "execution_count": 27,
   "metadata": {},
   "outputs": [],
   "source": [
    "external_features_dataset = external_features_dataset.drop(columns=['SalePrice'])"
   ]
  },
  {
   "cell_type": "code",
   "execution_count": 28,
   "metadata": {},
   "outputs": [
    {
     "name": "stdout",
     "output_type": "stream",
     "text": [
      "(1022, 13)\n",
      "(438, 13)\n",
      "(1022,)\n",
      "(438,)\n"
     ]
    }
   ],
   "source": [
    "\n",
    "\n",
    "train_set, test_set, train_result, test_result = train_test_split(internal_features_dataset, class_y, test_size = 0.3, random_state = 0)\n",
    "print(train_set.shape)\n",
    "print(test_set.shape)\n",
    "print(train_result.shape)\n",
    "print(test_result.shape)"
   ]
  },
  {
   "cell_type": "code",
   "execution_count": 29,
   "metadata": {},
   "outputs": [
    {
     "name": "stdout",
     "output_type": "stream",
     "text": [
      "(1022, 11)\n",
      "(438, 11)\n",
      "(1022,)\n",
      "(438,)\n"
     ]
    }
   ],
   "source": [
    "\n",
    "\n",
    "train_set2, test_set2, train_result2, test_result2 = train_test_split(external_features_dataset, class_y, test_size = 0.3, random_state = 0)\n",
    "print(train_set2.shape)\n",
    "print(test_set2.shape)\n",
    "print(train_result2.shape)\n",
    "print(test_result2.shape)"
   ]
  },
  {
   "cell_type": "code",
   "execution_count": 30,
   "metadata": {},
   "outputs": [
    {
     "data": {
      "text/html": [
       "<div>\n",
       "<style scoped>\n",
       "    .dataframe tbody tr th:only-of-type {\n",
       "        vertical-align: middle;\n",
       "    }\n",
       "\n",
       "    .dataframe tbody tr th {\n",
       "        vertical-align: top;\n",
       "    }\n",
       "\n",
       "    .dataframe thead th {\n",
       "        text-align: right;\n",
       "    }\n",
       "</style>\n",
       "<table border=\"1\" class=\"dataframe\">\n",
       "  <thead>\n",
       "    <tr style=\"text-align: right;\">\n",
       "      <th></th>\n",
       "      <th>Street</th>\n",
       "      <th>YearBuilt</th>\n",
       "      <th>LandSlope</th>\n",
       "      <th>LotArea</th>\n",
       "      <th>LotShape</th>\n",
       "      <th>LotFrontage</th>\n",
       "      <th>BldgType</th>\n",
       "      <th>LandContour</th>\n",
       "      <th>Exterior1st</th>\n",
       "      <th>Foundation</th>\n",
       "      <th>LotFrontage</th>\n",
       "    </tr>\n",
       "  </thead>\n",
       "  <tbody>\n",
       "    <tr>\n",
       "      <th>0</th>\n",
       "      <td>2</td>\n",
       "      <td>2003</td>\n",
       "      <td>1</td>\n",
       "      <td>8450</td>\n",
       "      <td>1</td>\n",
       "      <td>65.0</td>\n",
       "      <td>1</td>\n",
       "      <td>1</td>\n",
       "      <td>15</td>\n",
       "      <td>3</td>\n",
       "      <td>65.0</td>\n",
       "    </tr>\n",
       "    <tr>\n",
       "      <th>1</th>\n",
       "      <td>2</td>\n",
       "      <td>1976</td>\n",
       "      <td>1</td>\n",
       "      <td>9600</td>\n",
       "      <td>1</td>\n",
       "      <td>80.0</td>\n",
       "      <td>1</td>\n",
       "      <td>1</td>\n",
       "      <td>9</td>\n",
       "      <td>2</td>\n",
       "      <td>80.0</td>\n",
       "    </tr>\n",
       "    <tr>\n",
       "      <th>2</th>\n",
       "      <td>2</td>\n",
       "      <td>2001</td>\n",
       "      <td>1</td>\n",
       "      <td>11250</td>\n",
       "      <td>2</td>\n",
       "      <td>68.0</td>\n",
       "      <td>1</td>\n",
       "      <td>1</td>\n",
       "      <td>15</td>\n",
       "      <td>3</td>\n",
       "      <td>68.0</td>\n",
       "    </tr>\n",
       "    <tr>\n",
       "      <th>3</th>\n",
       "      <td>2</td>\n",
       "      <td>1915</td>\n",
       "      <td>1</td>\n",
       "      <td>9550</td>\n",
       "      <td>2</td>\n",
       "      <td>60.0</td>\n",
       "      <td>1</td>\n",
       "      <td>1</td>\n",
       "      <td>16</td>\n",
       "      <td>1</td>\n",
       "      <td>60.0</td>\n",
       "    </tr>\n",
       "    <tr>\n",
       "      <th>4</th>\n",
       "      <td>2</td>\n",
       "      <td>2000</td>\n",
       "      <td>1</td>\n",
       "      <td>14260</td>\n",
       "      <td>2</td>\n",
       "      <td>84.0</td>\n",
       "      <td>1</td>\n",
       "      <td>1</td>\n",
       "      <td>15</td>\n",
       "      <td>3</td>\n",
       "      <td>84.0</td>\n",
       "    </tr>\n",
       "    <tr>\n",
       "      <th>...</th>\n",
       "      <td>...</td>\n",
       "      <td>...</td>\n",
       "      <td>...</td>\n",
       "      <td>...</td>\n",
       "      <td>...</td>\n",
       "      <td>...</td>\n",
       "      <td>...</td>\n",
       "      <td>...</td>\n",
       "      <td>...</td>\n",
       "      <td>...</td>\n",
       "      <td>...</td>\n",
       "    </tr>\n",
       "    <tr>\n",
       "      <th>1455</th>\n",
       "      <td>2</td>\n",
       "      <td>1999</td>\n",
       "      <td>1</td>\n",
       "      <td>7917</td>\n",
       "      <td>1</td>\n",
       "      <td>62.0</td>\n",
       "      <td>1</td>\n",
       "      <td>1</td>\n",
       "      <td>15</td>\n",
       "      <td>3</td>\n",
       "      <td>62.0</td>\n",
       "    </tr>\n",
       "    <tr>\n",
       "      <th>1456</th>\n",
       "      <td>2</td>\n",
       "      <td>1978</td>\n",
       "      <td>1</td>\n",
       "      <td>13175</td>\n",
       "      <td>1</td>\n",
       "      <td>85.0</td>\n",
       "      <td>1</td>\n",
       "      <td>1</td>\n",
       "      <td>11</td>\n",
       "      <td>2</td>\n",
       "      <td>85.0</td>\n",
       "    </tr>\n",
       "    <tr>\n",
       "      <th>1457</th>\n",
       "      <td>2</td>\n",
       "      <td>1941</td>\n",
       "      <td>1</td>\n",
       "      <td>9042</td>\n",
       "      <td>1</td>\n",
       "      <td>66.0</td>\n",
       "      <td>1</td>\n",
       "      <td>1</td>\n",
       "      <td>6</td>\n",
       "      <td>5</td>\n",
       "      <td>66.0</td>\n",
       "    </tr>\n",
       "    <tr>\n",
       "      <th>1458</th>\n",
       "      <td>2</td>\n",
       "      <td>1950</td>\n",
       "      <td>1</td>\n",
       "      <td>9717</td>\n",
       "      <td>1</td>\n",
       "      <td>68.0</td>\n",
       "      <td>1</td>\n",
       "      <td>1</td>\n",
       "      <td>9</td>\n",
       "      <td>2</td>\n",
       "      <td>68.0</td>\n",
       "    </tr>\n",
       "    <tr>\n",
       "      <th>1459</th>\n",
       "      <td>2</td>\n",
       "      <td>1965</td>\n",
       "      <td>1</td>\n",
       "      <td>9937</td>\n",
       "      <td>1</td>\n",
       "      <td>75.0</td>\n",
       "      <td>1</td>\n",
       "      <td>1</td>\n",
       "      <td>7</td>\n",
       "      <td>2</td>\n",
       "      <td>75.0</td>\n",
       "    </tr>\n",
       "  </tbody>\n",
       "</table>\n",
       "<p>1460 rows × 11 columns</p>\n",
       "</div>"
      ],
      "text/plain": [
       "      Street  YearBuilt  LandSlope  LotArea  LotShape  LotFrontage  BldgType  \\\n",
       "0          2       2003          1     8450         1         65.0         1   \n",
       "1          2       1976          1     9600         1         80.0         1   \n",
       "2          2       2001          1    11250         2         68.0         1   \n",
       "3          2       1915          1     9550         2         60.0         1   \n",
       "4          2       2000          1    14260         2         84.0         1   \n",
       "...      ...        ...        ...      ...       ...          ...       ...   \n",
       "1455       2       1999          1     7917         1         62.0         1   \n",
       "1456       2       1978          1    13175         1         85.0         1   \n",
       "1457       2       1941          1     9042         1         66.0         1   \n",
       "1458       2       1950          1     9717         1         68.0         1   \n",
       "1459       2       1965          1     9937         1         75.0         1   \n",
       "\n",
       "      LandContour  Exterior1st  Foundation  LotFrontage   \n",
       "0               1           15           3          65.0  \n",
       "1               1            9           2          80.0  \n",
       "2               1           15           3          68.0  \n",
       "3               1           16           1          60.0  \n",
       "4               1           15           3          84.0  \n",
       "...           ...          ...         ...           ...  \n",
       "1455            1           15           3          62.0  \n",
       "1456            1           11           2          85.0  \n",
       "1457            1            6           5          66.0  \n",
       "1458            1            9           2          68.0  \n",
       "1459            1            7           2          75.0  \n",
       "\n",
       "[1460 rows x 11 columns]"
      ]
     },
     "execution_count": 30,
     "metadata": {},
     "output_type": "execute_result"
    }
   ],
   "source": [
    "external_features_dataset"
   ]
  },
  {
   "cell_type": "markdown",
   "metadata": {},
   "source": [
    "### Classification And Results"
   ]
  },
  {
   "cell_type": "code",
   "execution_count": 31,
   "metadata": {},
   "outputs": [],
   "source": [
    "def classificateByKNeighbors(train_dataset,train_result,test_dataset,test_result, num_of_class = 5):\n",
    "    \n",
    "    knn = KNeighborsClassifier(num_of_class)\n",
    "    knn.fit(train_dataset, train_result)\n",
    "    print(\"=====================================================\")\n",
    "    print('Accuracy of K-NN classifier on training set: {:.2f}'\n",
    "         .format(knn.score(train_dataset, train_result)))\n",
    "    print('Accuracy of K-NN classifier on test set: {:.2f}'\n",
    "         .format(knn.score(test_dataset, test_result)))\n",
    "    \n",
    "    knn_predict_result = knn.predict(test_dataset)\n",
    "\n",
    "    result_confusion_matrix = confusion_matrix(knn_predict_result, test_result) \n",
    "\n",
    "    f,ax = plt.subplots(figsize=(4, 4))\n",
    "    sns.heatmap(result_confusion_matrix, annot=True, linewidths=0.01,cmap=\"Greens\",linecolor=\"gray\", fmt= '.1f',ax=ax)\n",
    "    plt.xlabel(\"Predicted Label\")\n",
    "    plt.ylabel(\"True Label\")\n",
    "    plt.title(\"Confusion Matrix\")\n",
    "    plt.show()\n",
    "\n",
    "\n",
    "    print(\"f1-score :\" + str(f1_score(test_result, knn_predict_result, average=\"macro\")))\n",
    "    print(\"precision score :\" + str(precision_score(test_result, knn_predict_result, average=\"macro\")))\n",
    "    print(\"recall score :\" + str(recall_score(test_result, knn_predict_result, average=\"macro\")))\n",
    "    print(\"=====================================================\")\n",
    "    \n",
    "    "
   ]
  },
  {
   "cell_type": "code",
   "execution_count": 32,
   "metadata": {},
   "outputs": [
    {
     "name": "stdout",
     "output_type": "stream",
     "text": [
      "=====================================================\n",
      "Accuracy of K-NN classifier on training set: 0.82\n",
      "Accuracy of K-NN classifier on test set: 0.76\n"
     ]
    },
    {
     "name": "stderr",
     "output_type": "stream",
     "text": [
      "C:\\Users\\Lenovo\\AppData\\Roaming\\Python\\Python38\\site-packages\\sklearn\\base.py:441: UserWarning: X does not have valid feature names, but KNeighborsClassifier was fitted with feature names\n",
      "  warnings.warn(\n",
      "C:\\Users\\Lenovo\\AppData\\Roaming\\Python\\Python38\\site-packages\\sklearn\\base.py:441: UserWarning: X does not have valid feature names, but KNeighborsClassifier was fitted with feature names\n",
      "  warnings.warn(\n",
      "C:\\Users\\Lenovo\\AppData\\Roaming\\Python\\Python38\\site-packages\\sklearn\\base.py:441: UserWarning: X does not have valid feature names, but KNeighborsClassifier was fitted with feature names\n",
      "  warnings.warn(\n"
     ]
    },
    {
     "data": {
      "image/png": "[encoded data removed]",
      "text/plain": [
       "<Figure size 400x400 with 2 Axes>"
      ]
     },
     "metadata": {
      "needs_background": "light"
     },
     "output_type": "display_data"
    },
    {
     "name": "stdout",
     "output_type": "stream",
     "text": [
      "f1-score :0.4392511375738213\n",
      "precision score :0.4989632639867002\n",
      "recall score :0.41321885795570007\n",
      "=====================================================\n",
      "=====================================================\n",
      "Accuracy of K-NN classifier on training set: 0.81\n",
      "Accuracy of K-NN classifier on test set: 0.79\n"
     ]
    },
    {
     "name": "stderr",
     "output_type": "stream",
     "text": [
      "C:\\Users\\Lenovo\\AppData\\Roaming\\Python\\Python38\\site-packages\\sklearn\\metrics\\_classification.py:1308: UndefinedMetricWarning: Precision is ill-defined and being set to 0.0 in labels with no predicted samples. Use `zero_division` parameter to control this behavior.\n",
      "  _warn_prf(average, modifier, msg_start, len(result))\n",
      "C:\\Users\\Lenovo\\AppData\\Roaming\\Python\\Python38\\site-packages\\sklearn\\base.py:441: UserWarning: X does not have valid feature names, but KNeighborsClassifier was fitted with feature names\n",
      "  warnings.warn(\n",
      "C:\\Users\\Lenovo\\AppData\\Roaming\\Python\\Python38\\site-packages\\sklearn\\base.py:441: UserWarning: X does not have valid feature names, but KNeighborsClassifier was fitted with feature names\n",
      "  warnings.warn(\n",
      "C:\\Users\\Lenovo\\AppData\\Roaming\\Python\\Python38\\site-packages\\sklearn\\base.py:441: UserWarning: X does not have valid feature names, but KNeighborsClassifier was fitted with feature names\n",
      "  warnings.warn(\n"
     ]
    },
    {
     "data": {
      "image/png": "[encoded data removed]",
      "text/plain": [
       "<Figure size 400x400 with 2 Axes>"
      ]
     },
     "metadata": {
      "needs_background": "light"
     },
     "output_type": "display_data"
    },
    {
     "name": "stdout",
     "output_type": "stream",
     "text": [
      "f1-score :0.3553906465874551\n",
      "precision score :0.3644795127353267\n",
      "recall score :0.3545516994601663\n",
      "=====================================================\n",
      "=====================================================\n",
      "Accuracy of K-NN classifier on training set: 0.81\n",
      "Accuracy of K-NN classifier on test set: 0.79\n"
     ]
    },
    {
     "name": "stderr",
     "output_type": "stream",
     "text": [
      "C:\\Users\\Lenovo\\AppData\\Roaming\\Python\\Python38\\site-packages\\sklearn\\metrics\\_classification.py:1308: UndefinedMetricWarning: Precision is ill-defined and being set to 0.0 in labels with no predicted samples. Use `zero_division` parameter to control this behavior.\n",
      "  _warn_prf(average, modifier, msg_start, len(result))\n",
      "C:\\Users\\Lenovo\\AppData\\Roaming\\Python\\Python38\\site-packages\\sklearn\\base.py:441: UserWarning: X does not have valid feature names, but KNeighborsClassifier was fitted with feature names\n",
      "  warnings.warn(\n",
      "C:\\Users\\Lenovo\\AppData\\Roaming\\Python\\Python38\\site-packages\\sklearn\\base.py:441: UserWarning: X does not have valid feature names, but KNeighborsClassifier was fitted with feature names\n",
      "  warnings.warn(\n",
      "C:\\Users\\Lenovo\\AppData\\Roaming\\Python\\Python38\\site-packages\\sklearn\\base.py:441: UserWarning: X does not have valid feature names, but KNeighborsClassifier was fitted with feature names\n",
      "  warnings.warn(\n"
     ]
    },
    {
     "data": {
      "image/png": "[encoded data removed]",
      "text/plain": [
       "<Figure size 400x400 with 2 Axes>"
      ]
     },
     "metadata": {
      "needs_background": "light"
     },
     "output_type": "display_data"
    },
    {
     "name": "stdout",
     "output_type": "stream",
     "text": [
      "f1-score :0.3340180039453522\n",
      "precision score :0.3596458773784355\n",
      "recall score :0.3390197732875079\n",
      "=====================================================\n"
     ]
    },
    {
     "name": "stderr",
     "output_type": "stream",
     "text": [
      "C:\\Users\\Lenovo\\AppData\\Roaming\\Python\\Python38\\site-packages\\sklearn\\metrics\\_classification.py:1308: UndefinedMetricWarning: Precision is ill-defined and being set to 0.0 in labels with no predicted samples. Use `zero_division` parameter to control this behavior.\n",
      "  _warn_prf(average, modifier, msg_start, len(result))\n"
     ]
    }
   ],
   "source": [
    "\n",
    "classificateByKNeighbors(train_set,train_result,test_set,test_result,5)\n",
    "classificateByKNeighbors(train_set,train_result,test_set,test_result,10)\n",
    "classificateByKNeighbors(train_set,train_result,test_set,test_result,15)"
   ]
  },
  {
   "cell_type": "code",
   "execution_count": 33,
   "metadata": {},
   "outputs": [
    {
     "name": "stdout",
     "output_type": "stream",
     "text": [
      "=====================================================\n",
      "Accuracy of K-NN classifier on training set: 0.80\n",
      "Accuracy of K-NN classifier on test set: 0.70\n"
     ]
    },
    {
     "name": "stderr",
     "output_type": "stream",
     "text": [
      "C:\\Users\\Lenovo\\AppData\\Roaming\\Python\\Python38\\site-packages\\sklearn\\base.py:441: UserWarning: X does not have valid feature names, but KNeighborsClassifier was fitted with feature names\n",
      "  warnings.warn(\n",
      "C:\\Users\\Lenovo\\AppData\\Roaming\\Python\\Python38\\site-packages\\sklearn\\base.py:441: UserWarning: X does not have valid feature names, but KNeighborsClassifier was fitted with feature names\n",
      "  warnings.warn(\n",
      "C:\\Users\\Lenovo\\AppData\\Roaming\\Python\\Python38\\site-packages\\sklearn\\base.py:441: UserWarning: X does not have valid feature names, but KNeighborsClassifier was fitted with feature names\n",
      "  warnings.warn(\n"
     ]
    },
    {
     "data": {
      "image/png": "[encoded data removed]",
      "text/plain": [
       "<Figure size 400x400 with 2 Axes>"
      ]
     },
     "metadata": {
      "needs_background": "light"
     },
     "output_type": "display_data"
    },
    {
     "name": "stdout",
     "output_type": "stream",
     "text": [
      "f1-score :0.27556536127964704\n",
      "precision score :0.2697754092120289\n",
      "recall score :0.283042064621012\n",
      "=====================================================\n",
      "=====================================================\n",
      "Accuracy of K-NN classifier on training set: 0.73\n",
      "Accuracy of K-NN classifier on test set: 0.63\n"
     ]
    },
    {
     "name": "stderr",
     "output_type": "stream",
     "text": [
      "C:\\Users\\Lenovo\\AppData\\Roaming\\Python\\Python38\\site-packages\\sklearn\\metrics\\_classification.py:1308: UndefinedMetricWarning: Precision is ill-defined and being set to 0.0 in labels with no predicted samples. Use `zero_division` parameter to control this behavior.\n",
      "  _warn_prf(average, modifier, msg_start, len(result))\n",
      "C:\\Users\\Lenovo\\AppData\\Roaming\\Python\\Python38\\site-packages\\sklearn\\base.py:441: UserWarning: X does not have valid feature names, but KNeighborsClassifier was fitted with feature names\n",
      "  warnings.warn(\n",
      "C:\\Users\\Lenovo\\AppData\\Roaming\\Python\\Python38\\site-packages\\sklearn\\base.py:441: UserWarning: X does not have valid feature names, but KNeighborsClassifier was fitted with feature names\n",
      "  warnings.warn(\n",
      "C:\\Users\\Lenovo\\AppData\\Roaming\\Python\\Python38\\site-packages\\sklearn\\base.py:441: UserWarning: X does not have valid feature names, but KNeighborsClassifier was fitted with feature names\n",
      "  warnings.warn(\n"
     ]
    },
    {
     "data": {
      "image/png": "[encoded data removed]",
      "text/plain": [
       "<Figure size 400x400 with 2 Axes>"
      ]
     },
     "metadata": {
      "needs_background": "light"
     },
     "output_type": "display_data"
    },
    {
     "name": "stdout",
     "output_type": "stream",
     "text": [
      "f1-score :0.24080526519550913\n",
      "precision score :0.2401076136669357\n",
      "recall score :0.24728713676082098\n",
      "=====================================================\n",
      "=====================================================\n",
      "Accuracy of K-NN classifier on training set: 0.71\n",
      "Accuracy of K-NN classifier on test set: 0.66\n"
     ]
    },
    {
     "name": "stderr",
     "output_type": "stream",
     "text": [
      "C:\\Users\\Lenovo\\AppData\\Roaming\\Python\\Python38\\site-packages\\sklearn\\metrics\\_classification.py:1308: UndefinedMetricWarning: Precision is ill-defined and being set to 0.0 in labels with no predicted samples. Use `zero_division` parameter to control this behavior.\n",
      "  _warn_prf(average, modifier, msg_start, len(result))\n",
      "C:\\Users\\Lenovo\\AppData\\Roaming\\Python\\Python38\\site-packages\\sklearn\\base.py:441: UserWarning: X does not have valid feature names, but KNeighborsClassifier was fitted with feature names\n",
      "  warnings.warn(\n",
      "C:\\Users\\Lenovo\\AppData\\Roaming\\Python\\Python38\\site-packages\\sklearn\\base.py:441: UserWarning: X does not have valid feature names, but KNeighborsClassifier was fitted with feature names\n",
      "  warnings.warn(\n",
      "C:\\Users\\Lenovo\\AppData\\Roaming\\Python\\Python38\\site-packages\\sklearn\\base.py:441: UserWarning: X does not have valid feature names, but KNeighborsClassifier was fitted with feature names\n",
      "  warnings.warn(\n"
     ]
    },
    {
     "data": {
      "image/png": "[encoded data removed]",
      "text/plain": [
       "<Figure size 400x400 with 2 Axes>"
      ]
     },
     "metadata": {
      "needs_background": "light"
     },
     "output_type": "display_data"
    },
    {
     "name": "stdout",
     "output_type": "stream",
     "text": [
      "f1-score :0.2529406537607109\n",
      "precision score :0.2509753060800996\n",
      "recall score :0.2603586669376143\n",
      "=====================================================\n"
     ]
    },
    {
     "name": "stderr",
     "output_type": "stream",
     "text": [
      "C:\\Users\\Lenovo\\AppData\\Roaming\\Python\\Python38\\site-packages\\sklearn\\metrics\\_classification.py:1308: UndefinedMetricWarning: Precision is ill-defined and being set to 0.0 in labels with no predicted samples. Use `zero_division` parameter to control this behavior.\n",
      "  _warn_prf(average, modifier, msg_start, len(result))\n"
     ]
    }
   ],
   "source": [
    "\n",
    "classificateByKNeighbors(train_set2, train_result2, test_set2, test_result2,5)\n",
    "classificateByKNeighbors(train_set2, train_result2, test_set2, test_result2,10)\n",
    "classificateByKNeighbors(train_set2, train_result2, test_set2, test_result2,15)"
   ]
  },
  {
   "cell_type": "markdown",
   "metadata": {},
   "source": [
    "### Modelling  And Results"
   ]
  },
  {
   "cell_type": "code",
   "execution_count": 35,
   "metadata": {},
   "outputs": [],
   "source": [
    "def modellingByAdaBoost(train_dataset,train_result,test_dataset,test_result, num_of_estimators = 100):\n",
    "    \n",
    "    \n",
    "    ada_boost = AdaBoostRegressor(n_estimators=num_of_estimators, random_state=2)\n",
    "    ada_boost.fit(train_dataset, train_result)\n",
    "    print(\"=====================================================\")\n",
    "    print('Accuracy of  Ada Boost Regreessor on training set: {:.2f}'\n",
    "         .format(ada_boost.score(train_dataset, train_result)))\n",
    "    print('Accuracy of Ada Boost Regreessor on test set: {:.2f}'\n",
    "         .format(ada_boost.score(test_dataset, test_result)))\n",
    "    print(\"=====================================================\")"
   ]
  },
  {
   "cell_type": "code",
   "execution_count": 36,
   "metadata": {},
   "outputs": [
    {
     "name": "stdout",
     "output_type": "stream",
     "text": [
      "=====================================================\n",
      "Accuracy of  Ada Boost Regreessor on training set: 0.30\n",
      "Accuracy of Ada Boost Regreessor on test set: 0.24\n",
      "=====================================================\n",
      "=====================================================\n",
      "Accuracy of  Ada Boost Regreessor on training set: 0.30\n",
      "Accuracy of Ada Boost Regreessor on test set: 0.24\n",
      "=====================================================\n",
      "=====================================================\n",
      "Accuracy of  Ada Boost Regreessor on training set: 0.30\n",
      "Accuracy of Ada Boost Regreessor on test set: 0.24\n",
      "=====================================================\n"
     ]
    }
   ],
   "source": [
    "\n",
    "modellingByAdaBoost(train_set,train_result,test_set,test_result, 100)\n",
    "modellingByAdaBoost(train_set,train_result,test_set,test_result, 150)\n",
    "modellingByAdaBoost(train_set,train_result,test_set,test_result, 200)\n"
   ]
  },
  {
   "cell_type": "code",
   "execution_count": 37,
   "metadata": {},
   "outputs": [
    {
     "name": "stdout",
     "output_type": "stream",
     "text": [
      "=====================================================\n",
      "Accuracy of  Ada Boost Regreessor on training set: 0.49\n",
      "Accuracy of Ada Boost Regreessor on test set: 0.39\n",
      "=====================================================\n",
      "=====================================================\n",
      "Accuracy of  Ada Boost Regreessor on training set: 0.49\n",
      "Accuracy of Ada Boost Regreessor on test set: 0.39\n",
      "=====================================================\n",
      "=====================================================\n",
      "Accuracy of  Ada Boost Regreessor on training set: 0.49\n",
      "Accuracy of Ada Boost Regreessor on test set: 0.39\n",
      "=====================================================\n"
     ]
    }
   ],
   "source": [
    "\n",
    "modellingByAdaBoost(train_set2, train_result2, test_set2, test_result2, 100)\n",
    "modellingByAdaBoost(train_set2, train_result2, test_set2, test_result2, 150)\n",
    "modellingByAdaBoost(train_set2, train_result2, test_set2, test_result2, 200)"
   ]
  },
  {
   "cell_type": "markdown",
   "metadata": {},
   "source": [
    "### Post Calssification  And Results"
   ]
  },
  {
   "cell_type": "code",
   "execution_count": 38,
   "metadata": {},
   "outputs": [],
   "source": [
    "def modellingByNaiveBayes(train_dataset,train_result,test_dataset,test_result):\n",
    "    \n",
    "    naive_bayes = GaussianNB()\n",
    "    naive_bayes.fit(train_dataset, train_result)\n",
    "    print('Accuracy of Naive Bayes classifier on training set: {:.2f}'\n",
    "         .format(naive_bayes.score(train_dataset, train_result)))\n",
    "    print('Accuracy of Naive Bayes classifier on test set: {:.2f}'\n",
    "         .format(naive_bayes.score(test_dataset, test_result)))\n",
    "    \n",
    "    naive_bayes_predict_result = naive_bayes.predict(test_dataset)\n",
    "\n",
    "    result_confusion_matrix = confusion_matrix(naive_bayes_predict_result, test_result) \n",
    "\n",
    "    f,ax = plt.subplots(figsize=(4, 4))\n",
    "    sns.heatmap(result_confusion_matrix, annot=True, linewidths=0.01,cmap=\"Greens\",linecolor=\"gray\", fmt= '.1f',ax=ax)\n",
    "    plt.xlabel(\"Predicted Label\")\n",
    "    plt.ylabel(\"True Label\")\n",
    "    plt.title(\"Confusion Matrix\")\n",
    "    plt.show()\n",
    "\n",
    "\n",
    "    print(\"f1-score :\" + str(f1_score(test_result, naive_bayes_predict_result, average=\"macro\")))\n",
    "    print(\"precision score :\" + str(precision_score(test_result, naive_bayes_predict_result, average=\"macro\")))\n",
    "    print(\"recall score :\" + str(recall_score(test_result, naive_bayes_predict_result, average=\"macro\")))\n"
   ]
  },
  {
   "cell_type": "code",
   "execution_count": 39,
   "metadata": {},
   "outputs": [
    {
     "name": "stdout",
     "output_type": "stream",
     "text": [
      "Accuracy of Naive Bayes classifier on training set: 0.21\n",
      "Accuracy of Naive Bayes classifier on test set: 0.22\n"
     ]
    },
    {
     "data": {
      "image/png": "[encoded data removed]",
      "text/plain": [
       "<Figure size 400x400 with 2 Axes>"
      ]
     },
     "metadata": {
      "needs_background": "light"
     },
     "output_type": "display_data"
    },
    {
     "name": "stdout",
     "output_type": "stream",
     "text": [
      "f1-score :0.20292207690472383\n",
      "precision score :0.34619277292910733\n",
      "recall score :0.3571709090587809\n"
     ]
    }
   ],
   "source": [
    "\n",
    "modellingByNaiveBayes(train_set,train_result,test_set,test_result)"
   ]
  },
  {
   "cell_type": "code",
   "execution_count": 40,
   "metadata": {},
   "outputs": [
    {
     "name": "stdout",
     "output_type": "stream",
     "text": [
      "Accuracy of Naive Bayes classifier on training set: 0.71\n",
      "Accuracy of Naive Bayes classifier on test set: 0.73\n"
     ]
    },
    {
     "data": {
      "image/png": "[encoded data removed]",
      "text/plain": [
       "<Figure size 400x400 with 2 Axes>"
      ]
     },
     "metadata": {
      "needs_background": "light"
     },
     "output_type": "display_data"
    },
    {
     "name": "stdout",
     "output_type": "stream",
     "text": [
      "f1-score :0.358085700815136\n",
      "precision score :0.38049513704686116\n",
      "recall score :0.39774259385243366\n"
     ]
    }
   ],
   "source": [
    "modellingByNaiveBayes(train_set2, train_result2, test_set2, test_result2)"
   ]
  },
  {
   "cell_type": "code",
   "execution_count": null,
   "metadata": {},
   "outputs": [],
   "source": []
  }
 ],
 "metadata": {
  "kernelspec": {
   "display_name": "Python 3 (ipykernel)",
   "language": "python",
   "name": "python3"
  },
  "language_info": {
   "codemirror_mode": {
    "name": "ipython",
    "version": 3
   },
   "file_extension": ".py",
   "mimetype": "text/x-python",
   "name": "python",
   "nbconvert_exporter": "python",
   "pygments_lexer": "ipython3",
   "version": "3.8.3"
  }
 },
 "nbformat": 4,
 "nbformat_minor": 4
}
